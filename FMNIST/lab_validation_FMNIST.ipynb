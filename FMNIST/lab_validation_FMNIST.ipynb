{
 "cells": [
  {
   "cell_type": "markdown",
   "metadata": {},
   "source": [
    "# Classifying Fashion-MNIST\n",
    "\n",
    "* 이번 실습에서는 지난 시간과 거의 유사한 작업을 Fashion-MNIST dataset에 대해서 수행하겠습니다\n",
    "\n",
    "* Fashion-MNIST 는 28x28 흑백으로 된 의류 image입니다\n",
    "* 숫자를 표현한 MNIST 보다는 더 복잡한 image가 되어, NN의 성능을 시험해보기 조금 더 난해한 dataset 입니다 (물론 지금 시대에는 여전히 쉬운 작업입니다)\n",
    "\n",
    "* dataset에 대한 그림은 아래와 같습니다\n",
    "\n",
    "\n",
    "![Classnote](https://drive.google.com/uc?export=download&id=1jS383QGptWGFyDrVO0i8Eo7BwXqV5epq)\n",
    "\n",
    "* 작업은 여러분이 처음부터 끝까지 코딩을 하시면 됩니다\n",
    "* 전체적인 흐름은 지난 주 숙제와 동일하기 때문에 (결국 10개의 의상 종류로 분류합니다) 지난 주 숙제 solution이나 본인이 짠 부분을 대부분 가져와서 해보시면 됩니다.\n",
    "\n",
    "* 아래는 dataset을 준비하는 과정입니다"
   ]
  },
  {
   "cell_type": "code",
   "execution_count": 1,
   "metadata": {},
   "outputs": [],
   "source": [
    "import torch\n",
    "from torchvision import datasets, transforms\n",
    "import helper"
   ]
  },
  {
   "cell_type": "code",
   "execution_count": 2,
   "metadata": {},
   "outputs": [
    {
     "name": "stdout",
     "output_type": "stream",
     "text": [
      "Downloading http://fashion-mnist.s3-website.eu-central-1.amazonaws.com/train-images-idx3-ubyte.gz\n",
      "Downloading http://fashion-mnist.s3-website.eu-central-1.amazonaws.com/train-images-idx3-ubyte.gz to /Users/nayoungmin/.pytorch/F_MNIST_data/FashionMNIST/raw/train-images-idx3-ubyte.gz\n"
     ]
    },
    {
     "name": "stderr",
     "output_type": "stream",
     "text": [
      "100%|██████████████████████████| 26421880/26421880 [00:22<00:00, 1149921.01it/s]\n"
     ]
    },
    {
     "name": "stdout",
     "output_type": "stream",
     "text": [
      "Extracting /Users/nayoungmin/.pytorch/F_MNIST_data/FashionMNIST/raw/train-images-idx3-ubyte.gz to /Users/nayoungmin/.pytorch/F_MNIST_data/FashionMNIST/raw\n",
      "\n",
      "Downloading http://fashion-mnist.s3-website.eu-central-1.amazonaws.com/train-labels-idx1-ubyte.gz\n",
      "Downloading http://fashion-mnist.s3-website.eu-central-1.amazonaws.com/train-labels-idx1-ubyte.gz to /Users/nayoungmin/.pytorch/F_MNIST_data/FashionMNIST/raw/train-labels-idx1-ubyte.gz\n"
     ]
    },
    {
     "name": "stderr",
     "output_type": "stream",
     "text": [
      "100%|██████████████████████████████████| 29515/29515 [00:00<00:00, 40763.99it/s]\n"
     ]
    },
    {
     "name": "stdout",
     "output_type": "stream",
     "text": [
      "Extracting /Users/nayoungmin/.pytorch/F_MNIST_data/FashionMNIST/raw/train-labels-idx1-ubyte.gz to /Users/nayoungmin/.pytorch/F_MNIST_data/FashionMNIST/raw\n",
      "\n",
      "Downloading http://fashion-mnist.s3-website.eu-central-1.amazonaws.com/t10k-images-idx3-ubyte.gz\n",
      "Downloading http://fashion-mnist.s3-website.eu-central-1.amazonaws.com/t10k-images-idx3-ubyte.gz to /Users/nayoungmin/.pytorch/F_MNIST_data/FashionMNIST/raw/t10k-images-idx3-ubyte.gz\n"
     ]
    },
    {
     "name": "stderr",
     "output_type": "stream",
     "text": [
      "100%|█████████████████████████████| 4422102/4422102 [00:06<00:00, 679806.55it/s]\n"
     ]
    },
    {
     "name": "stdout",
     "output_type": "stream",
     "text": [
      "Extracting /Users/nayoungmin/.pytorch/F_MNIST_data/FashionMNIST/raw/t10k-images-idx3-ubyte.gz to /Users/nayoungmin/.pytorch/F_MNIST_data/FashionMNIST/raw\n",
      "\n",
      "Downloading http://fashion-mnist.s3-website.eu-central-1.amazonaws.com/t10k-labels-idx1-ubyte.gz\n",
      "Downloading http://fashion-mnist.s3-website.eu-central-1.amazonaws.com/t10k-labels-idx1-ubyte.gz to /Users/nayoungmin/.pytorch/F_MNIST_data/FashionMNIST/raw/t10k-labels-idx1-ubyte.gz\n"
     ]
    },
    {
     "name": "stderr",
     "output_type": "stream",
     "text": [
      "100%|██████████████████████████████████| 5148/5148 [00:00<00:00, 4035185.38it/s]"
     ]
    },
    {
     "name": "stdout",
     "output_type": "stream",
     "text": [
      "Extracting /Users/nayoungmin/.pytorch/F_MNIST_data/FashionMNIST/raw/t10k-labels-idx1-ubyte.gz to /Users/nayoungmin/.pytorch/F_MNIST_data/FashionMNIST/raw\n",
      "\n"
     ]
    },
    {
     "name": "stderr",
     "output_type": "stream",
     "text": [
      "\n"
     ]
    }
   ],
   "source": [
    "transform = transforms.Compose([transforms.ToTensor()])\n",
    "trainset = datasets.FashionMNIST('~/.pytorch/F_MNIST_data/', download=True, train=True, transform=transform)\n",
    "trainloader = torch.utils.data.DataLoader(trainset, batch_size=2000, shuffle=True)"
   ]
  },
  {
   "cell_type": "code",
   "execution_count": 3,
   "metadata": {},
   "outputs": [],
   "source": [
    "images, labels = next(iter(trainloader))"
   ]
  },
  {
   "cell_type": "code",
   "execution_count": 4,
   "metadata": {},
   "outputs": [
    {
     "data": {
      "text/plain": [
       "torch.Size([2000, 1, 28, 28])"
      ]
     },
     "execution_count": 4,
     "metadata": {},
     "output_type": "execute_result"
    }
   ],
   "source": [
    "images.shape"
   ]
  },
  {
   "cell_type": "code",
   "execution_count": 5,
   "metadata": {},
   "outputs": [
    {
     "data": {
      "text/plain": [
       "tensor(0.2907)"
      ]
     },
     "execution_count": 5,
     "metadata": {},
     "output_type": "execute_result"
    }
   ],
   "source": [
    "torch.mean(images)"
   ]
  },
  {
   "cell_type": "code",
   "execution_count": 6,
   "metadata": {},
   "outputs": [
    {
     "data": {
      "text/plain": [
       "tensor(0.3539)"
      ]
     },
     "execution_count": 6,
     "metadata": {},
     "output_type": "execute_result"
    }
   ],
   "source": [
    "torch.std(images)"
   ]
  },
  {
   "cell_type": "code",
   "execution_count": 7,
   "metadata": {},
   "outputs": [],
   "source": [
    "device = 'cpu'\n",
    "if torch.cuda.is_available():\n",
    "    device = 'cuda'"
   ]
  },
  {
   "cell_type": "code",
   "execution_count": 8,
   "metadata": {},
   "outputs": [
    {
     "data": {
      "text/plain": [
       "False"
      ]
     },
     "execution_count": 8,
     "metadata": {},
     "output_type": "execute_result"
    }
   ],
   "source": [
    "torch.cuda.is_available()"
   ]
  },
  {
   "cell_type": "code",
   "execution_count": 9,
   "metadata": {},
   "outputs": [],
   "source": [
    "# Define a transform to normalize the data\n",
    "transform = transforms.Compose([transforms.ToTensor(),\n",
    "                                transforms.Normalize((0.28,), (0.35,))])\n",
    "\n",
    "# Download and load the training data\n",
    "trainset = datasets.FashionMNIST('~/.pytorch/F_MNIST_data/', download=True, train=True, transform=transform)\n",
    "trainloader = torch.utils.data.DataLoader(trainset, batch_size=64, shuffle=True)\n",
    "\n",
    "# Download and load the test data\n",
    "valset = datasets.FashionMNIST('~/.pytorch/F_MNIST_data/', download=True, train=False, transform=transform)\n",
    "valloader = torch.utils.data.DataLoader(valset, batch_size=64, shuffle=True)"
   ]
  },
  {
   "cell_type": "markdown",
   "metadata": {},
   "source": [
    "* 아래 명령으로 이미지 중에 한개를 살펴봐서 준비가 되었는지 확인해 봅시다"
   ]
  },
  {
   "cell_type": "code",
   "execution_count": 17,
   "metadata": {
    "scrolled": true
   },
   "outputs": [
    {
     "data": {
      "image/png": "[encoded data removed]",
      "text/plain": [
       "<Figure size 432x288 with 1 Axes>"
      ]
     },
     "metadata": {
      "needs_background": "light"
     },
     "output_type": "display_data"
    }
   ],
   "source": [
    "image, label = next(iter(trainloader))\n",
    "helper.imshow(image[0,:]);"
   ]
  },
  {
   "cell_type": "markdown",
   "metadata": {},
   "source": [
    "### Problem 1\n",
    "\n",
    "* 이미지가 28x28인 점을 고려하여 지난주에 벡터로 변환하는 작업을 수행하고\n",
    "* fc1,...,fc4 까지 linear layer를 만드시고\n",
    "* 최종 output layer fc4는 10개 분류 작업을 할 수 있도록 구성\n",
    "\n",
    "* Activation 함수는 ReLU, 최종 layer는 linear layer 만 연산\n",
    "* Cost function 정의\n",
    "* autograd, optimizer를 사용하여 training 수행 \n",
    "* fc1 는 256의 크기로 구성\n",
    "* fc2 는 128의 크기로 구성\n",
    "* fc3 는 64의 크기로 구성\n",
    "* epoch수는 5"
   ]
  },
  {
   "cell_type": "code",
   "execution_count": 18,
   "metadata": {},
   "outputs": [],
   "source": [
    "from torch import nn, optim\n",
    "import torch.nn.functional as F\n",
    "\n",
    "class Classifier(nn.Module):\n",
    "    def __init__(self):\n",
    "        super().__init__()\n",
    "        \n",
    "        self.fc1 = nn.Linear(784,256)\n",
    "        self.fc2 = nn.Linear(256,128)\n",
    "        self.fc3 = nn.Linear(128,64)\n",
    "        self.fc4 = nn.Linear(64,10)\n",
    "        \n",
    "\n",
    "\n",
    "    def forward(self, x):\n",
    "        \n",
    "        x = F.relu(self.fc1(x))\n",
    "        x = F.relu(self.fc2(x))\n",
    "        x = F.relu(self.fc3(x))\n",
    "        x = self.fc4(x)\n",
    "        \n",
    "        return x\n",
    "    ###############"
   ]
  },
  {
   "cell_type": "markdown",
   "metadata": {},
   "source": [
    "### Problem 2: Training the network"
   ]
  },
  {
   "cell_type": "code",
   "execution_count": 20,
   "metadata": {},
   "outputs": [
    {
     "name": "stdout",
     "output_type": "stream",
     "text": [
      "Training loss: 0.4867671708276531\n",
      "Training loss: 0.3692903109053686\n",
      "Training loss: 0.3347937461139678\n",
      "Training loss: 0.3165485562562053\n",
      "Training loss: 0.2985070231579133\n"
     ]
    }
   ],
   "source": [
    "# TODO: 네트워크를 training 하세요 (epoch는 5번으로 하죠)\n",
    "model = Classifier()\n",
    "model.to(device)\n",
    "criterion = nn.CrossEntropyLoss()\n",
    "optimizer = optim.Adam(model.parameters(), lr=0.003)\n",
    "\n",
    "epochs = 5\n",
    "\n",
    "for e in range(epochs):\n",
    "    running_loss = 0\n",
    "    for images, labels in trainloader:\n",
    "        images = images.reshape(images.shape[0],-1).to(device)\n",
    "        labels = labels.to(device)\n",
    "        \n",
    "        #### 답 작성\n",
    "        logits = model(images)\n",
    "        loss = criterion(logits, labels)\n",
    "\n",
    "        optimizer.zero_grad()\n",
    "        loss.backward()\n",
    "        optimizer.step()\n",
    "        \n",
    "        #### \n",
    "        \n",
    "        running_loss += loss.item()\n",
    "    \n",
    "    print(f\"Training loss: {running_loss/len(trainloader)}\")"
   ]
  },
  {
   "cell_type": "code",
   "execution_count": 33,
   "metadata": {},
   "outputs": [
    {
     "data": {
      "image/png": "[encoded data removed]",
      "text/plain": [
       "<Figure size 432x648 with 2 Axes>"
      ]
     },
     "metadata": {
      "image/png": {
       "height": 216,
       "width": 424
      },
      "needs_background": "light"
     },
     "output_type": "display_data"
    }
   ],
   "source": [
    "%matplotlib inline\n",
    "%config InlineBackend.figure_format = 'retina'\n",
    "\n",
    "# Test out your network!\n",
    "\n",
    "images, labels = next(iter(valloader))\n",
    "img = images[1].reshape(1,-1)\n",
    "img = img.to(device)\n",
    "\n",
    "# log softmax 값을 softmax로 변환하여 확률값을 저장\n",
    "logits = model(img)\n",
    "sm = nn.Softmax(dim=1)\n",
    "ps = sm(logits)\n",
    "\n",
    "# Plot the image and probabilities\n",
    "helper.view_classify(img.to('cpu'), ps.cpu(), version='Fashion')"
   ]
  },
  {
   "cell_type": "markdown",
   "metadata": {},
   "source": [
    "# Part 2: Inference and Validation\n",
    "\n",
    "* 지금까지는 network를 training하는 방법에 대해서 알아보았습니다\n",
    "* Training 된 network를 활용하여 예측 (prediction)을 하는 것을 ML 용어로 inference라고 합니다\n",
    "* Training된 network를 새로운 데이터에 대해서도 좋은 성능을 갖게하는 것을 generalization 이라고 합니다 \n",
    "* 하지만, neural network (또는 모든 ML)은  training 된 데이터에 너무 최적화되어, 새로운 데이터에대해서 성능이 떨어지는 (generalization 이 안되는) 문제가 발생합니다. 이런 현상을  **overfitting** 이라고 합니다\n",
    "* **Generalization** 이 잘되어서 **overfitting** 안일어났는지 확인하는 작업을 **validation** set으로 data를 분리하여 수행합니다\n",
    "* Overfitting이 일어나지 않도록 처리하는 여러 기법을 **regularization** 이라고 하며, 대표적으로 **dropout**과 같은것이 있습니다\n",
    "* 이번 실습에서는 **validation**에 대해서 알아보겠습니다\n",
    "\n",
    "* dataset 은 torchvision을 통해서 load하겠습니다\n",
    "* Torchvision에 대한 자세한 기능은 차차 배우기로 학고, 우선은 테스트 세트를 load하기 위해서 `train=False` 로 설정합니다\n",
    "\n",
    "```python\n",
    "valset = datasets.FashionMNIST('~/.pytorch/F_MNIST_data/', download=True, train=False, transform=transform)\n",
    "```\n",
    "\n",
    "* validation set은 trainging set과 비슷한 구조를 갖습니다"
   ]
  },
  {
   "cell_type": "markdown",
   "metadata": {},
   "source": [
    "* 본 작업에 목적은 training set에 포함하지 않은 data에 대해서 성능을 측정하는 것입니다\n",
    "* 여기서 성능은 개발자에 의해서 용도에 맞게 설정합니다 \n",
    "* 본 과제에서는 정확도 관점에서 성능을 측정학겠습니다\n",
    "  - 즉 분류를 성공과 실패로 보고 성공의 비율을 측정합니다\n",
    "* 기타 성능 측정을 위한 방법은 [precision and recall](https://en.wikipedia.org/wiki/Precision_and_recall#Definition_(classification_context)) 과 top-5 error rate 등이 있습니다\n",
    "* 시작으로, 한개에 batch에 대한 forward pass를 실행합니다"
   ]
  },
  {
   "cell_type": "code",
   "execution_count": 35,
   "metadata": {},
   "outputs": [
    {
     "name": "stdout",
     "output_type": "stream",
     "text": [
      "torch.Size([64, 10])\n"
     ]
    }
   ],
   "source": [
    "model = Classifier()\n",
    "\n",
    "images, labels = next(iter(valloader))\n",
    "\n",
    "# Get the class probabilities\n",
    "images = images.reshape(images.shape[0],-1)\n",
    "logits = model(images)\n",
    "ps = sm(logits)\n",
    "# Make sure the shape is appropriate, we should get 10 class probabilities for 64 examples\n",
    "print(ps.shape)"
   ]
  },
  {
   "cell_type": "markdown",
   "metadata": {},
   "source": [
    "* 출력은 각 classification 항목에 대한 확률 분포로 출력됩니다\n",
    "* `ps.topk` method로 $k$개의 활률 값이 가장 높은 value와 index를 tuple로 받습니다\n",
    "* 가장 높은 가능성으로 분류를 하고자하니, `ps.topk(1)`를 사용합니다\n",
    "* 예를 들어서 가장 높은 value가 5번째이면 index 4를 받습니다"
   ]
  },
  {
   "cell_type": "code",
   "execution_count": 36,
   "metadata": {},
   "outputs": [
    {
     "name": "stdout",
     "output_type": "stream",
     "text": [
      "tensor([[9],\n",
      "        [9],\n",
      "        [9],\n",
      "        [9],\n",
      "        [9],\n",
      "        [9],\n",
      "        [9],\n",
      "        [9],\n",
      "        [9],\n",
      "        [9]])\n",
      "tensor([[0.1134],\n",
      "        [0.1120],\n",
      "        [0.1131],\n",
      "        [0.1088],\n",
      "        [0.1115],\n",
      "        [0.1140],\n",
      "        [0.1112],\n",
      "        [0.1174],\n",
      "        [0.1131],\n",
      "        [0.1152]], grad_fn=<SliceBackward0>)\n"
     ]
    },
    {
     "data": {
      "text/plain": [
       "torch.Size([64, 1])"
      ]
     },
     "execution_count": 36,
     "metadata": {},
     "output_type": "execute_result"
    }
   ],
   "source": [
    "top_p, top_class = ps.topk(1, dim=1)\n",
    "# Look at the most likely classes for the first 10 examples\n",
    "print(top_class[:10,:])\n",
    "print(top_p[:10,:])\n",
    "top_class.shape"
   ]
  },
  {
   "cell_type": "code",
   "execution_count": 37,
   "metadata": {},
   "outputs": [
    {
     "data": {
      "text/plain": [
       "tensor([[0.0885, 0.0986, 0.1050, 0.0998, 0.0984, 0.0973, 0.0965, 0.1053, 0.0972,\n",
       "         0.1134],\n",
       "        [0.0907, 0.1014, 0.1008, 0.1025, 0.0943, 0.1008, 0.0980, 0.1038, 0.0956,\n",
       "         0.1120],\n",
       "        [0.0893, 0.1085, 0.0988, 0.1025, 0.0930, 0.1003, 0.0929, 0.1047, 0.0968,\n",
       "         0.1131],\n",
       "        [0.0890, 0.1056, 0.0982, 0.1033, 0.0977, 0.1005, 0.0939, 0.1057, 0.0973,\n",
       "         0.1088],\n",
       "        [0.0918, 0.1047, 0.1073, 0.0983, 0.0977, 0.0964, 0.0909, 0.1041, 0.0975,\n",
       "         0.1115],\n",
       "        [0.0906, 0.1066, 0.1041, 0.1003, 0.0914, 0.1029, 0.0933, 0.1008, 0.0959,\n",
       "         0.1140],\n",
       "        [0.0916, 0.1094, 0.0973, 0.1007, 0.0894, 0.1014, 0.0982, 0.1071, 0.0938,\n",
       "         0.1112],\n",
       "        [0.0877, 0.1014, 0.1018, 0.1045, 0.0866, 0.0996, 0.1027, 0.1041, 0.0944,\n",
       "         0.1174],\n",
       "        [0.0869, 0.1000, 0.1052, 0.0986, 0.1000, 0.0983, 0.0933, 0.1047, 0.0999,\n",
       "         0.1131],\n",
       "        [0.0901, 0.1020, 0.0989, 0.1034, 0.0941, 0.1015, 0.0962, 0.1043, 0.0942,\n",
       "         0.1152]], grad_fn=<SliceBackward0>)"
      ]
     },
     "execution_count": 37,
     "metadata": {},
     "output_type": "execute_result"
    }
   ],
   "source": [
    "ps[:10,:]"
   ]
  },
  {
   "cell_type": "markdown",
   "metadata": {},
   "source": [
    "* 지금까지 네트워크에서 출력한 확률분포에서 가장 높은 확률값의 index를 64개 찾았습니다\n",
    "* 이제 `top_class`와 `labels`를 비교하여 몇개를 맞췄는지 확인을 해야합니다\n",
    "* 차원이 맞는 tensor 간에 `==`를 해서 비교합니다 (테스트 해보세요!)\n",
    "* 다음을 실행하면 원하는 답이 나오지 않습니다\n",
    "* `top_class`와 `labels`의 shape를 비교 해보고 싶은 생각이 드셔야합니다\n",
    "```python\n",
    "equals = top_class == labels\n",
    "```\n",
    "* (참고) broadcasting으로 `==` 연산이 일어난것이며, 우리가 원하는 연산은 아닙니다 "
   ]
  },
  {
   "cell_type": "code",
   "execution_count": 38,
   "metadata": {},
   "outputs": [
    {
     "data": {
      "text/plain": [
       "torch.Size([64])"
      ]
     },
     "execution_count": 38,
     "metadata": {},
     "output_type": "execute_result"
    }
   ],
   "source": [
    "labels.shape"
   ]
  },
  {
   "cell_type": "code",
   "execution_count": 39,
   "metadata": {},
   "outputs": [
    {
     "data": {
      "text/plain": [
       "torch.Size([64, 1])"
      ]
     },
     "execution_count": 39,
     "metadata": {},
     "output_type": "execute_result"
    }
   ],
   "source": [
    "top_class.shape"
   ]
  },
  {
   "cell_type": "code",
   "execution_count": 40,
   "metadata": {},
   "outputs": [
    {
     "data": {
      "text/plain": [
       "tensor([[False],\n",
       "        [ True],\n",
       "        [False],\n",
       "        [False],\n",
       "        [False],\n",
       "        [False],\n",
       "        [False],\n",
       "        [False],\n",
       "        [False],\n",
       "        [ True],\n",
       "        [False],\n",
       "        [ True],\n",
       "        [False],\n",
       "        [False],\n",
       "        [False],\n",
       "        [False],\n",
       "        [False],\n",
       "        [False],\n",
       "        [False],\n",
       "        [False],\n",
       "        [ True],\n",
       "        [False],\n",
       "        [False],\n",
       "        [False],\n",
       "        [False],\n",
       "        [False],\n",
       "        [False],\n",
       "        [False],\n",
       "        [False],\n",
       "        [False],\n",
       "        [False],\n",
       "        [False],\n",
       "        [False],\n",
       "        [False],\n",
       "        [False],\n",
       "        [False],\n",
       "        [ True],\n",
       "        [False],\n",
       "        [False],\n",
       "        [False],\n",
       "        [False],\n",
       "        [False],\n",
       "        [False],\n",
       "        [False],\n",
       "        [False],\n",
       "        [False],\n",
       "        [ True],\n",
       "        [False],\n",
       "        [False],\n",
       "        [False],\n",
       "        [False],\n",
       "        [False],\n",
       "        [False],\n",
       "        [False],\n",
       "        [False],\n",
       "        [False],\n",
       "        [False],\n",
       "        [False],\n",
       "        [ True],\n",
       "        [False],\n",
       "        [False],\n",
       "        [False],\n",
       "        [False],\n",
       "        [False]])"
      ]
     },
     "execution_count": 40,
     "metadata": {},
     "output_type": "execute_result"
    }
   ],
   "source": [
    "top_class == labels.reshape(top_class.shape)"
   ]
  },
  {
   "cell_type": "code",
   "execution_count": 41,
   "metadata": {},
   "outputs": [
    {
     "data": {
      "text/plain": [
       "tensor([5, 9, 2, 0, 3, 2, 4, 8, 5, 9, 8, 3, 8, 2, 6, 6, 6, 1, 7, 8, 9, 5, 5, 6,\n",
       "        8, 8, 3, 0, 7, 5, 0, 1, 7, 6, 6, 2, 9, 4, 8, 6, 8, 3, 4, 3, 3, 2, 9, 2,\n",
       "        6, 1, 1, 8, 8, 2, 7, 4, 5, 4, 9, 6, 4, 5, 8, 4])"
      ]
     },
     "execution_count": 41,
     "metadata": {},
     "output_type": "execute_result"
    }
   ],
   "source": [
    "labels"
   ]
  },
  {
   "cell_type": "code",
   "execution_count": 42,
   "metadata": {},
   "outputs": [
    {
     "data": {
      "text/plain": [
       "torch.Size([64, 1])"
      ]
     },
     "execution_count": 42,
     "metadata": {},
     "output_type": "execute_result"
    }
   ],
   "source": [
    "equals = top_class == labels.reshape(top_class.shape)\n",
    "top_class.shape"
   ]
  },
  {
   "cell_type": "markdown",
   "metadata": {},
   "source": [
    "* 이제 분류가 성공한 비율을 찾기위해서 전체를 더하고 총수로 나누는 (평균)을 내면됩니다\n",
    "* `torch.mean`이 유용한데 \n",
    "* `torch.mean(equals)`를 실행하면\n",
    "\n",
    "```\n",
    "RuntimeError: mean is not implemented for type torch.ByteTensor\n",
    "```\n",
    "* `equals`를 float tensor로 변환하여 적용합니다\n"
   ]
  },
  {
   "cell_type": "code",
   "execution_count": 43,
   "metadata": {},
   "outputs": [
    {
     "name": "stdout",
     "output_type": "stream",
     "text": [
      "Accuracy: 10.9375%\n"
     ]
    }
   ],
   "source": [
    "accuracy = torch.mean(equals.type(torch.float))\n",
    "print(f'Accuracy: {accuracy*100}%')"
   ]
  },
  {
   "cell_type": "markdown",
   "metadata": {},
   "source": [
    "* 당연히 네트워크가 training이 안되었기 때문에 값이 랜덤하게 나옵니다\n",
    "* 이제 전체 test data (validation set)에 대한 loop를 완성하려 합니다 (위는 한 batch)\n",
    "* 아래 Exercise를 수행하는데 중요한 코드가 있습니다\n",
    "* `torch.no_grad():`는 tensor에 gradient 정보 없이 작업을 할때 사용합니다. 당연히 training이 없으니 network parameter를 업데이트할 필요가 없고, gradient 정보를 저장하는데 쓸데 없는 연산과 메모리 사용을 방지할 수 있습니다. Validation과정에서는 필수입니다! \n",
    "\n",
    "```python\n",
    "# turn off gradients\n",
    "with torch.no_grad():\n",
    "    # validation pass here\n",
    "    for images, labels in testloader:\n",
    "        ...\n",
    "```\n"
   ]
  },
  {
   "cell_type": "code",
   "execution_count": 48,
   "metadata": {},
   "outputs": [
    {
     "name": "stdout",
     "output_type": "stream",
     "text": [
      "Epoch: 1/30..  Training Loss: 0.482..  Validation Loss: 0.455..  Validation Accuracy: 0.836\n",
      "Epoch: 2/30..  Training Loss: 0.369..  Validation Loss: 0.411..  Validation Accuracy: 0.846\n",
      "Epoch: 3/30..  Training Loss: 0.330..  Validation Loss: 0.381..  Validation Accuracy: 0.865\n",
      "Epoch: 4/30..  Training Loss: 0.316..  Validation Loss: 0.369..  Validation Accuracy: 0.873\n",
      "Epoch: 5/30..  Training Loss: 0.297..  Validation Loss: 0.373..  Validation Accuracy: 0.871\n",
      "Epoch: 6/30..  Training Loss: 0.286..  Validation Loss: 0.386..  Validation Accuracy: 0.865\n",
      "Epoch: 7/30..  Training Loss: 0.274..  Validation Loss: 0.377..  Validation Accuracy: 0.871\n",
      "Epoch: 8/30..  Training Loss: 0.270..  Validation Loss: 0.365..  Validation Accuracy: 0.879\n",
      "Epoch: 9/30..  Training Loss: 0.257..  Validation Loss: 0.351..  Validation Accuracy: 0.877\n",
      "Epoch: 10/30..  Training Loss: 0.247..  Validation Loss: 0.367..  Validation Accuracy: 0.880\n",
      "Epoch: 11/30..  Training Loss: 0.239..  Validation Loss: 0.377..  Validation Accuracy: 0.878\n",
      "Epoch: 12/30..  Training Loss: 0.238..  Validation Loss: 0.382..  Validation Accuracy: 0.882\n",
      "Epoch: 13/30..  Training Loss: 0.230..  Validation Loss: 0.363..  Validation Accuracy: 0.881\n",
      "Epoch: 14/30..  Training Loss: 0.223..  Validation Loss: 0.385..  Validation Accuracy: 0.878\n",
      "Epoch: 15/30..  Training Loss: 0.218..  Validation Loss: 0.407..  Validation Accuracy: 0.872\n",
      "Epoch: 16/30..  Training Loss: 0.217..  Validation Loss: 0.378..  Validation Accuracy: 0.880\n",
      "Epoch: 17/30..  Training Loss: 0.213..  Validation Loss: 0.381..  Validation Accuracy: 0.884\n",
      "Epoch: 18/30..  Training Loss: 0.208..  Validation Loss: 0.389..  Validation Accuracy: 0.880\n",
      "Epoch: 19/30..  Training Loss: 0.206..  Validation Loss: 0.392..  Validation Accuracy: 0.885\n",
      "Epoch: 20/30..  Training Loss: 0.198..  Validation Loss: 0.397..  Validation Accuracy: 0.885\n",
      "Epoch: 21/30..  Training Loss: 0.195..  Validation Loss: 0.419..  Validation Accuracy: 0.885\n",
      "Epoch: 22/30..  Training Loss: 0.194..  Validation Loss: 0.394..  Validation Accuracy: 0.884\n",
      "Epoch: 23/30..  Training Loss: 0.186..  Validation Loss: 0.402..  Validation Accuracy: 0.887\n",
      "Epoch: 24/30..  Training Loss: 0.184..  Validation Loss: 0.415..  Validation Accuracy: 0.885\n",
      "Epoch: 25/30..  Training Loss: 0.178..  Validation Loss: 0.435..  Validation Accuracy: 0.884\n",
      "Epoch: 26/30..  Training Loss: 0.181..  Validation Loss: 0.436..  Validation Accuracy: 0.882\n",
      "Epoch: 27/30..  Training Loss: 0.183..  Validation Loss: 0.420..  Validation Accuracy: 0.886\n",
      "Epoch: 28/30..  Training Loss: 0.178..  Validation Loss: 0.411..  Validation Accuracy: 0.884\n",
      "Epoch: 29/30..  Training Loss: 0.176..  Validation Loss: 0.439..  Validation Accuracy: 0.885\n",
      "Epoch: 30/30..  Training Loss: 0.176..  Validation Loss: 0.447..  Validation Accuracy: 0.884\n"
     ]
    }
   ],
   "source": [
    "# 답 작성\n",
    "model = Classifier()\n",
    "model.to(device)\n",
    "criterion = nn.CrossEntropyLoss()\n",
    "optimizer = optim.Adam(model.parameters(), lr=0.003)\n",
    "\n",
    "epochs = 30\n",
    "steps = 0\n",
    "\n",
    "train_losses, val_losses = [], []\n",
    "for e in range(epochs):\n",
    "    running_loss = 0\n",
    "    for images, labels in trainloader:\n",
    "        images = images.reshape(images.shape[0],-1).to(device)\n",
    "        labels = labels.to(device)\n",
    "        \n",
    "\n",
    "        # 답작성: Training 코드 \n",
    "        optimizer.zero_grad()\n",
    "        \n",
    "        logits = model(images)\n",
    "        loss = criterion(logits, labels)\n",
    "        loss.backward()\n",
    "        optimizer.step()\n",
    "        \n",
    "        #######################\n",
    "        running_loss += loss.item()\n",
    "        \n",
    "    \n",
    "    val_loss = 0\n",
    "    accuracy = 0\n",
    "\n",
    "\n",
    "    with torch.no_grad():\n",
    "        for images, labels in valloader:\n",
    "            images = images.reshape(images.shape[0],-1).to(device)\n",
    "            labels = labels.to(device)\n",
    "            logits = model(images)\n",
    "            val_loss += criterion(logits, labels).item()\n",
    "            \n",
    "            ps = sm(logits)\n",
    "            top_p, top_class = ps.topk(1, dim=1)\n",
    "            equals = top_class == labels.reshape(top_class.shape)\n",
    "            accuracy += torch.mean(equals.type(torch.float))\n",
    "            #######################\n",
    "\n",
    "    train_losses.append(running_loss/len(trainloader))\n",
    "    val_losses.append(val_loss/len(valloader))\n",
    "\n",
    "    print(\"Epoch: {}/{}.. \".format(e+1, epochs),\n",
    "          \"Training Loss: {:.3f}.. \".format(running_loss/len(trainloader)),\n",
    "          \"Validation Loss: {:.3f}.. \".format(val_loss/len(valloader)),\n",
    "          \"Validation Accuracy: {:.3f}\".format(accuracy/len(valloader)))"
   ]
  },
  {
   "cell_type": "code",
   "execution_count": 49,
   "metadata": {},
   "outputs": [],
   "source": [
    "%matplotlib inline\n",
    "%config InlineBackend.figure_format = 'retina'\n",
    "\n",
    "import matplotlib.pyplot as plt"
   ]
  },
  {
   "cell_type": "code",
   "execution_count": 50,
   "metadata": {},
   "outputs": [
    {
     "data": {
      "text/plain": [
       "Text(0, 0.5, 'loss')"
      ]
     },
     "execution_count": 50,
     "metadata": {},
     "output_type": "execute_result"
    },
    {
     "data": {
      "image/png": "[encoded data removed]",
      "text/plain": [
       "<Figure size 432x288 with 1 Axes>"
      ]
     },
     "metadata": {
      "image/png": {
       "height": 261,
       "width": 393
      },
      "needs_background": "light"
     },
     "output_type": "display_data"
    }
   ],
   "source": [
    "plt.plot(train_losses, label='Training loss')\n",
    "plt.plot(val_losses, label='Validation loss')\n",
    "plt.legend(frameon=False)\n",
    "plt.xlabel('epoch')\n",
    "plt.ylabel('loss')"
   ]
  },
  {
   "cell_type": "markdown",
   "metadata": {},
   "source": [
    "## Overfitting\n",
    "\n",
    "* 위에서 수행한 결과를 살펴보면 overfitting 현상을 확인할 수 있습니다\n",
    "* 같지는 않지만, 아래와 같은 현상:\n",
    "\n",
    "![Classnote](https://drive.google.com/uc?export=download&id=1QOvGv2H28H0X94tkUo5VU40TPeSjpI9q)\n",
    "\n",
    "- Training loss는 점점 줄어드는 반면, validation loss는 일정 줄어들다가 다시 늘어나는 현상을 확인 할 수 있습니다. \n",
    "- 궁극적인 목적은 새로운 data에 대해서 잘 동작하는 것이기 때문에 가장 낮은 validation loss를 갖도록 하는것이 목표 입니다\n",
    "- 그래프에서 착안 할 수 있는 방법중 하나는 가장 낮아지는 epoch를 찾아서 멈추는 방법입니다. 이런 방법을 *early-stopping*이라고 합니다 \n",
    "- 실제 적용하는 practice에서는 많은 training을 수행하며, 그 중에서 가장 좋은 성능(lowest validation error)의 network을 선택합니다\n",
    "- Early stopping 이외에 매우 자주 사용되는 regularization 방법은 *dropout* 입니다\n",
    "- Dropout은 네트워크의 연결을 랜덤하게 일정 비율로 끊어버리는 방법입니다\n",
    "- Dropout이 왜 효과가 있는지는 이론 수업에서 다루도록 하겠습니다\n",
    "- Pytorch에서 dropout을 수행하는 방법은 [`nn.Dropout`](https://pytorch.org/docs/stable/nn.html#torch.nn.Dropout) module 통해서 합니다\n",
    "\n",
    "```python\n",
    "class Classifier(nn.Module):\n",
    "    def __init__(self):\n",
    "        super().__init__()\n",
    "        self.fc1 = None\n",
    "        self.fc2 = None\n",
    "        self.fc3 = None\n",
    "        self.fc4 = None\n",
    "        \n",
    "        # Dropout module with 0.2 drop probability\n",
    "        self.dropout = nn.Dropout(p=0.2)\n",
    "        \n",
    "    def forward(self, x):\n",
    "        # make sure input tensor is flattened\n",
    "        x = x.view(x.shape[0], -1)\n",
    "        \n",
    "        # Now with dropout\n",
    "        x = self.dropout(F.relu(self.fc1(x)))\n",
    "        x = self.dropout(F.relu(self.fc2(x)))\n",
    "        x = self.dropout(F.relu(self.fc3(x)))\n",
    "        \n",
    "        # output so no dropout here\n",
    "        x = self.fc4(x)\n",
    "        \n",
    "        return x\n",
    "```\n",
    "\n",
    "* 여기서 Dropout은 training 단계에서만 사용하고, validation에서는 전체 네트워크를 사용해야 합니다 (Why?)\n",
    "* 즉, validation 과정에서는 dropout을 비활성화 해야하죠\n",
    "  - 이를 위해서 `model.eval()`을 사용합니다\n",
    "  - 즉, `model.eval()` 모드 하에서는 droupout 확률이 0으로 동작합니다   \n",
    "  - 다시 dropout를 수행할때는 `model.train()`으로 활성화 합니다\n",
    "  - 일반적으로 아래와 같이 동작하죠\n",
    "    1. Validation loop에서 gradient를 끄고, model을 evaluation mode로 설정\n",
    "    2. validation loss를 계산하고 \n",
    "    3. 다시 train mode로 변경 \n",
    "    \n",
    "```python\n",
    "# turn off gradients\n",
    "with torch.no_grad():\n",
    "    \n",
    "    # set model to evaluation mode\n",
    "    model.eval()\n",
    "    \n",
    "    # validation pass here\n",
    "    for images, labels in testloader:\n",
    "        ...\n",
    "\n",
    "# set model back to train mode\n",
    "model.train()\n",
    "```"
   ]
  },
  {
   "cell_type": "markdown",
   "metadata": {},
   "source": [
    "**Problem 3:** \n",
    "\n",
    "- 아래 코드에서 dropout를 사용하기 위한 필요한 곳을 수정/채워 주세요\n",
    "- model 에 dropout 적용, model.eval, model.train 등\n",
    "- 아래 코드는 위에 적용했던 코드 problem 1 부분 제외한 모음입니다\n",
    "- Template이라고 생각학고 적용하시면 됩니다"
   ]
  },
  {
   "cell_type": "code",
   "execution_count": 51,
   "metadata": {},
   "outputs": [],
   "source": [
    "class Classifier(nn.Module):\n",
    "    \n",
    "    # 앞 문제에서 작성한 network에 dropout 적용\n",
    "    def __init__(self):\n",
    "        super().__init__()\n",
    "        self.fc1 = nn.Linear(784,256)\n",
    "        self.fc2 = nn.Linear(256,128)\n",
    "        self.fc3 = nn.Linear(128,64)\n",
    "        self.fc4 = nn.Linear(64,10)\n",
    "        self.relu = nn.ReLU(True)\n",
    "        # Dropout module with 0.2 drop probability\n",
    "        self.dropout = nn.Dropout(p=0.2)\n",
    "\n",
    "\n",
    "    def forward(self, x):\n",
    "        # Now with dropout\n",
    "        x = self.dropout(self.relu(self.fc1(x)))\n",
    "        x = self.dropout(self.relu(self.fc2(x)))\n",
    "        x = self.dropout(self.relu(self.fc3(x)))\n",
    "        \n",
    "\n",
    "        # output so no dropout here\n",
    "        x = self.fc4(x)\n",
    "\n",
    "\n",
    "        return x\n",
    "    ##############################"
   ]
  },
  {
   "cell_type": "code",
   "execution_count": 54,
   "metadata": {},
   "outputs": [
    {
     "name": "stdout",
     "output_type": "stream",
     "text": [
      "Epoch: 1/30..  Training Loss: 0.560..  Validation Loss: 0.448..  Validation Accuracy: 0.838\n",
      "Epoch: 2/30..  Training Loss: 0.451..  Validation Loss: 0.428..  Validation Accuracy: 0.845\n",
      "Epoch: 3/30..  Training Loss: 0.426..  Validation Loss: 0.397..  Validation Accuracy: 0.858\n",
      "Epoch: 4/30..  Training Loss: 0.408..  Validation Loss: 0.379..  Validation Accuracy: 0.861\n",
      "Epoch: 5/30..  Training Loss: 0.399..  Validation Loss: 0.375..  Validation Accuracy: 0.867\n",
      "Epoch: 6/30..  Training Loss: 0.383..  Validation Loss: 0.374..  Validation Accuracy: 0.868\n",
      "Epoch: 7/30..  Training Loss: 0.375..  Validation Loss: 0.411..  Validation Accuracy: 0.863\n",
      "Epoch: 8/30..  Training Loss: 0.369..  Validation Loss: 0.385..  Validation Accuracy: 0.865\n",
      "Epoch: 9/30..  Training Loss: 0.369..  Validation Loss: 0.396..  Validation Accuracy: 0.869\n",
      "Epoch: 10/30..  Training Loss: 0.362..  Validation Loss: 0.373..  Validation Accuracy: 0.871\n",
      "Epoch: 11/30..  Training Loss: 0.360..  Validation Loss: 0.360..  Validation Accuracy: 0.878\n",
      "Epoch: 12/30..  Training Loss: 0.353..  Validation Loss: 0.397..  Validation Accuracy: 0.863\n",
      "Epoch: 13/30..  Training Loss: 0.352..  Validation Loss: 0.376..  Validation Accuracy: 0.870\n",
      "Epoch: 14/30..  Training Loss: 0.346..  Validation Loss: 0.370..  Validation Accuracy: 0.875\n",
      "Epoch: 15/30..  Training Loss: 0.344..  Validation Loss: 0.368..  Validation Accuracy: 0.870\n",
      "Epoch: 16/30..  Training Loss: 0.343..  Validation Loss: 0.381..  Validation Accuracy: 0.873\n",
      "Epoch: 17/30..  Training Loss: 0.338..  Validation Loss: 0.368..  Validation Accuracy: 0.875\n",
      "Epoch: 18/30..  Training Loss: 0.335..  Validation Loss: 0.376..  Validation Accuracy: 0.872\n",
      "Epoch: 19/30..  Training Loss: 0.330..  Validation Loss: 0.388..  Validation Accuracy: 0.868\n",
      "Epoch: 20/30..  Training Loss: 0.334..  Validation Loss: 0.360..  Validation Accuracy: 0.880\n",
      "Epoch: 21/30..  Training Loss: 0.334..  Validation Loss: 0.393..  Validation Accuracy: 0.875\n",
      "Epoch: 22/30..  Training Loss: 0.342..  Validation Loss: 0.375..  Validation Accuracy: 0.863\n",
      "Epoch: 23/30..  Training Loss: 0.324..  Validation Loss: 0.383..  Validation Accuracy: 0.873\n",
      "Epoch: 24/30..  Training Loss: 0.320..  Validation Loss: 0.371..  Validation Accuracy: 0.873\n",
      "Epoch: 25/30..  Training Loss: 0.323..  Validation Loss: 0.382..  Validation Accuracy: 0.872\n",
      "Epoch: 26/30..  Training Loss: 0.321..  Validation Loss: 0.372..  Validation Accuracy: 0.880\n",
      "Epoch: 27/30..  Training Loss: 0.319..  Validation Loss: 0.376..  Validation Accuracy: 0.878\n",
      "Epoch: 28/30..  Training Loss: 0.314..  Validation Loss: 0.368..  Validation Accuracy: 0.882\n",
      "Epoch: 29/30..  Training Loss: 0.312..  Validation Loss: 0.385..  Validation Accuracy: 0.872\n",
      "Epoch: 30/30..  Training Loss: 0.316..  Validation Loss: 0.390..  Validation Accuracy: 0.874\n"
     ]
    }
   ],
   "source": [
    "    model = Classifier()\n",
    "    model.to(device)\n",
    "    criterion = nn.CrossEntropyLoss()\n",
    "    optimizer = optim.Adam(model.parameters(), lr=0.003)\n",
    "\n",
    "    epochs = 30\n",
    "    steps = 0\n",
    "\n",
    "    train_losses, val_losses = [], []\n",
    "    for e in range(epochs):\n",
    "        running_loss = 0\n",
    "\n",
    "\n",
    "        for images, labels in trainloader:\n",
    "            images = images.reshape(images.shape[0],-1).to(device)\n",
    "            labels = labels.to(device)\n",
    "\n",
    "\n",
    "            # training 답 작성 \n",
    "            optimizer.zero_grad()\n",
    "            \n",
    "            logits = model(images)\n",
    "            loss = criterion(logits, labels)\n",
    "            loss.backward()\n",
    "            optimizer.step()\n",
    "\n",
    "            #######################\n",
    "            running_loss += loss.item()\n",
    "\n",
    "\n",
    "        val_loss = 0\n",
    "        accuracy = 0\n",
    "\n",
    "        # Gradient를 계산할 필요 없으니 비활성화 \n",
    "        with torch.no_grad():\n",
    "            model.eval()\n",
    "            for images, labels in valloader:            \n",
    "                images = images.reshape(images.shape[0],-1).to(device)\n",
    "                labels = labels.to(device)\n",
    "            \n",
    "                logits = model(images)\n",
    "                val_loss += criterion(logits, labels).item()\n",
    "            \n",
    "                ps = sm(logits)\n",
    "                top_p, top_class = ps.topk(1, dim=1)\n",
    "                equals = top_class == labels.reshape(top_class.shape)\n",
    "                accuracy += torch.mean(equals.type(torch.FloatTensor))\n",
    "                ##################\n",
    "\n",
    "        model.train()\n",
    "        train_losses.append(running_loss/len(trainloader))\n",
    "        val_losses.append(val_loss/len(valloader))\n",
    "\n",
    "        print(\"Epoch: {}/{}.. \".format(e+1, epochs),\n",
    "              \"Training Loss: {:.3f}.. \".format(train_losses[-1]),\n",
    "              \"Validation Loss: {:.3f}.. \".format(val_losses[-1]),\n",
    "              \"Validation Accuracy: {:.3f}\".format(accuracy/len(valloader)))"
   ]
  },
  {
   "cell_type": "code",
   "execution_count": 55,
   "metadata": {},
   "outputs": [],
   "source": [
    "%matplotlib inline\n",
    "%config InlineBackend.figure_format = 'retina'\n",
    "\n",
    "import matplotlib.pyplot as plt"
   ]
  },
  {
   "cell_type": "code",
   "execution_count": 56,
   "metadata": {},
   "outputs": [
    {
     "data": {
      "text/plain": [
       "<matplotlib.legend.Legend at 0x134bdfd90>"
      ]
     },
     "execution_count": 56,
     "metadata": {},
     "output_type": "execute_result"
    },
    {
     "data": {
      "image/png": "[encoded data removed]",
      "text/plain": [
       "<Figure size 432x288 with 1 Axes>"
      ]
     },
     "metadata": {
      "image/png": {
       "height": 248,
       "width": 380
      },
      "needs_background": "light"
     },
     "output_type": "display_data"
    }
   ],
   "source": [
    "plt.plot(train_losses[:30], label='Training loss')\n",
    "plt.plot(val_losses[:30], label='Validation loss')\n",
    "plt.legend(frameon=False)"
   ]
  },
  {
   "cell_type": "markdown",
   "metadata": {},
   "source": [
    "###### Inference\n",
    "\n",
    "* 이제 실제 적용하는 예입니다 (inference)\n",
    "* 내가 분류작업을 한다고 생각학고 traning이 끝난 네트워크에 적용합니다\n",
    "* 당연히 model.eval()과 gradient는 비활성화합니다"
   ]
  },
  {
   "cell_type": "code",
   "execution_count": 60,
   "metadata": {},
   "outputs": [
    {
     "data": {
      "image/png": "[encoded data removed]",
      "text/plain": [
       "<Figure size 432x648 with 2 Axes>"
      ]
     },
     "metadata": {
      "image/png": {
       "height": 216,
       "width": 424
      },
      "needs_background": "light"
     },
     "output_type": "display_data"
    }
   ],
   "source": [
    "# Import helper module (should be in the repo)\n",
    "import helper\n",
    "\n",
    "# Test out your network!\n",
    "\n",
    "model.eval()\n",
    "\n",
    "dataiter = iter(valloader)\n",
    "images, labels = next(dataiter)\n",
    "images = images.reshape(images.shape[0],-1).to(device)\n",
    "labels = labels.to(device)\n",
    "img = images[0]\n",
    "# Convert 2D image to 1D vector\n",
    "img = img.view(1, 784)\n",
    "\n",
    "# Calculate the class probabilities (softmax) for img\n",
    "with torch.no_grad():\n",
    "    output = model.forward(img)\n",
    "\n",
    "ps = sm(output)\n",
    "\n",
    "# Plot the image and probabilities\n",
    "img = img.cpu()\n",
    "ps = ps.cpu()\n",
    "helper.view_classify(img.view(1, 28, 28), ps, version='Fashion')"
   ]
  },
  {
   "cell_type": "code",
   "execution_count": null,
   "metadata": {},
   "outputs": [],
   "source": []
  }
 ],
 "metadata": {
  "kernelspec": {
   "display_name": "Python 3 (ipykernel)",
   "language": "python",
   "name": "python3"
  },
  "language_info": {
   "codemirror_mode": {
    "name": "ipython",
    "version": 3
   },
   "file_extension": ".py",
   "mimetype": "text/x-python",
   "name": "python",
   "nbconvert_exporter": "python",
   "pygments_lexer": "ipython3",
   "version": "3.10.5"
  },
  "toc": {
   "base_numbering": 1,
   "nav_menu": {},
   "number_sections": true,
   "sideBar": true,
   "skip_h1_title": false,
   "title_cell": "Table of Contents",
   "title_sidebar": "Contents",
   "toc_cell": false,
   "toc_position": {},
   "toc_section_display": true,
   "toc_window_display": false
  }
 },
 "nbformat": 4,
 "nbformat_minor": 4
}
