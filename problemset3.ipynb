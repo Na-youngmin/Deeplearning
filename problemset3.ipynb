{
 "cells": [
  {
   "cell_type": "markdown",
   "metadata": {},
   "source": [
    "# Loading MNIST DATA"
   ]
  },
  {
   "cell_type": "code",
   "execution_count": 1,
   "metadata": {},
   "outputs": [],
   "source": [
    "import torch\n",
    "from torch import nn\n",
    "import torch.nn.functional as F\n",
    "from torchvision import datasets, transforms\n",
    "import numpy as np\n",
    "import matplotlib.pyplot as plt\n",
    "%matplotlib inline"
   ]
  },
  {
   "cell_type": "code",
   "execution_count": 2,
   "metadata": {},
   "outputs": [],
   "source": [
    "# Define a transform to normalize the data\n",
    "transform = transforms.Compose([transforms.ToTensor()])\n",
    "# Download and load the training data\n",
    "trainset = datasets.MNIST('~/.pytorch/MNIST_data/', download=True, train=True, transform=transform)\n",
    "trainloader = torch.utils.data.DataLoader(trainset, batch_size=1000, shuffle=True)"
   ]
  },
  {
   "cell_type": "code",
   "execution_count": 3,
   "metadata": {},
   "outputs": [],
   "source": [
    "images, labels = next(iter(trainloader))"
   ]
  },
  {
   "cell_type": "code",
   "execution_count": 4,
   "metadata": {},
   "outputs": [
    {
     "data": {
      "text/plain": [
       "torch.Size([1000, 1, 28, 28])"
      ]
     },
     "execution_count": 4,
     "metadata": {},
     "output_type": "execute_result"
    }
   ],
   "source": [
    "images.shape"
   ]
  },
  {
   "cell_type": "code",
   "execution_count": 5,
   "metadata": {},
   "outputs": [
    {
     "data": {
      "text/plain": [
       "tensor(0.1297)"
      ]
     },
     "execution_count": 5,
     "metadata": {},
     "output_type": "execute_result"
    }
   ],
   "source": [
    "torch.mean(images)"
   ]
  },
  {
   "cell_type": "code",
   "execution_count": 6,
   "metadata": {},
   "outputs": [
    {
     "data": {
      "text/plain": [
       "tensor(0.3071)"
      ]
     },
     "execution_count": 6,
     "metadata": {},
     "output_type": "execute_result"
    }
   ],
   "source": [
    "torch.std(images)"
   ]
  },
  {
   "cell_type": "code",
   "execution_count": 38,
   "metadata": {},
   "outputs": [],
   "source": [
    "# Define a transform to normalize the data\n",
    "transform = transforms.Compose([transforms.ToTensor(),\n",
    "                                transforms.Normalize((0.13), (0.3)),\n",
    "                              ])\n",
    "# Download and load the training data\n",
    "trainset = datasets.MNIST('~/.pytorch/MNIST_data/', download=True, train=True, transform=transform)\n",
    "trainloader = torch.utils.data.DataLoader(trainset, batch_size=64, shuffle=True)"
   ]
  },
  {
   "cell_type": "code",
   "execution_count": 39,
   "metadata": {},
   "outputs": [],
   "source": [
    "images, labels = next(iter(trainloader))"
   ]
  },
  {
   "cell_type": "code",
   "execution_count": 40,
   "metadata": {},
   "outputs": [],
   "source": [
    "Xsample = images.reshape(images.shape[0], -1)"
   ]
  },
  {
   "cell_type": "code",
   "execution_count": 41,
   "metadata": {},
   "outputs": [
    {
     "data": {
      "text/plain": [
       "torch.Size([64, 784])"
      ]
     },
     "execution_count": 41,
     "metadata": {},
     "output_type": "execute_result"
    }
   ],
   "source": [
    "Xsample.shape"
   ]
  },
  {
   "cell_type": "markdown",
   "metadata": {},
   "source": [
    "### Problem 1: Constructing the network model\n",
    "\n",
    "`FNC` class를 정의하고 `model`을 생성하세요:\n",
    "\n",
    "- input layer\n",
    "  - number of input features를 hidden unit 128개로 선형변환 및 ReLU activation function\n",
    "- Hidden layer\n",
    "  - 128 hidden unit을 64개 hidden unit으로 선형변환 및 ReLU\n",
    "- Output layer\n",
    "  - 64개 hidden unit을 10개 class로 분류하기 위한 output layer\n",
    "  - 최종 layer의 activation은 없음 (linear layer)"
   ]
  },
  {
   "cell_type": "code",
   "execution_count": 43,
   "metadata": {},
   "outputs": [],
   "source": [
    "class FCN(nn.Module):\n",
    "    # 답작성\n",
    "    def __init__(self):\n",
    "        super().__init__()\n",
    "        \n",
    "        self.seq = nn.Sequential(nn.Linear(784,128),\n",
    "                                 nn.ReLU(True),\n",
    "                                 nn.Linear(128,64),\n",
    "                                 nn.ReLU(True),\n",
    "                                 nn.Linear(64,10)\n",
    "                                )\n",
    "        \n",
    "    def forward(self, x):\n",
    "        return self.seq(x) \n",
    "    "
   ]
  },
  {
   "cell_type": "code",
   "execution_count": 44,
   "metadata": {},
   "outputs": [],
   "source": [
    "model = FCN()"
   ]
  },
  {
   "cell_type": "markdown",
   "metadata": {},
   "source": [
    "## Loss Functions in PyTorch\n",
    "\n",
    "* 다음 과정으로, Pytorch에서 loss를 어떻게 연산하는지 배워보죠\n",
    "* `nn` module에서 다양한 loss function을 제공하는데, 예를 들면 `nn.CrossEntropyLoss`와 같은 함수가 있습니다\n",
    "    * 보통 관습적으로 loss function은 `critertion`이라는 변수로 받습니다 (`loss_function`등도 당연히 사용 가능합니다)\n",
    "* 지난 시간에 MNIST 문제는 확률 분포를 output으로 받는 것이 필요하다고 (또는 자연스러운 선택 임을) 학습했습니다 \n",
    "* 이런 확률 분포를 output으로 받는 경우 대응되는 좋은 loss function이 cross entropy입니다 (이론 강의에서 cross entropy가 무엇을 의미하는지 설명한 부분을 복습 해보세요)\n",
    "\n",
    "* Cross entropy의 정의는 \n",
    "\\begin{align*}\n",
    " J(\\theta) &=-\\frac{1}{m}\\sum_{i=1}^m P(y^{(i)}|x^{(i)})\\log(Q(y^{(i)}|x^{(i)}))\n",
    "\\end{align*}\n",
    "* 위 식은 두 확률 분포의 \"거리\"를 표현하는 식이라고 배웠습니다\n",
    "* 위에서 $P(y|x)$는 $y$의 label을 one hot coding 한 vector이고 $Q(y|x)$는 softmax를 취한 network output입니다\n",
    "* One hot coding은 label이 1이면 첫번째 자리만 '1'이고 나머지는 영인 벡터, label이 $k$이면 $k$ 번째 자리만 '1'이고 나머지는 0인 벡터입니다\n",
    "\n",
    "* 예를들어서 label이 2에 대한 one hot encoding\n",
    "\\begin{align*}\n",
    "y_\\textrm{one_hot}(2) &= \\begin{array}{cccccc}\n",
    "[0 & 0 & 1 & \\cdots & 0]\n",
    "\\end{array}\n",
    "\\end{align*}\n",
    "\n",
    "* 위 cross entropy 식에 대응 하는 방식은, label이 2라고 가정했을 때 분포는:\n",
    "\\begin{align*}\n",
    "P(y|x) = y_\\textrm{one_hot}(2), \\quad P(2|x) = (y_\\textrm{one_hot}(2))_2\n",
    "\\end{align*}\n",
    "\n",
    "* 또한, neural network의 마지막 linear layer의 output 값이 $z$라고 할때,\n",
    "\\begin{align*}\n",
    "Q(y=2|x) = \\sigma(z_2) = \\cfrac{\\exp(z_2)}{\\sum_k^K{\\exp(z_k)}}\n",
    "\\end{align*}\n",
    "\n",
    "![Classnote](https://drive.google.com/uc?export=download&id=17hcl4RJne65Vd17gKM8XKUTjYlqyFIY5)\n",
    "\n",
    "* pytorch에서 이를 수행하기 위해서 criterion을 `nn.CrossEntropyLoss`로 생성하고, network의 예측 값과, 실제 label 값을 입력으로 loss를 계산합니다\n",
    "  * 본 과정은 차근차근 설명하겠습니다\n",
    "* 그 전에 Pytorch에서 cross entropy 함수를 어떻게 적용하는지 먼저 이해할 필요가 있습니다 (중요합니다!!!)\n",
    "  * [Pytorch.org `nn.CrossEntropyLoss`](https://pytorch.org/docs/stable/nn.html#torch.nn.CrossEntropyLoss)를 살펴보면\n",
    "\n",
    "> This criterion combines nn.LogSoftmax() and nn.NLLLoss() in one single class.\n",
    ">\n",
    "> The input is expected to contain scores for each class.\n",
    "\n",
    "* `nn.CrossEntropyLoss`는 `nn.LogSoftmax()`와 `nn.NLLLoss()` 하나의 class에서 수행한다고 되어 있습니다. \n",
    "* 두번째 줄에서 NLLLoss 는 negative log likelihood loss 입니다 \n",
    "\n",
    "* 이게 의미하는 바가 무엇이냐면, network의 output을 softmax function을 적용하여 출력하지 말고, softmax는 loss function에서 계산한다는 뜻입니다\n",
    "* 이렇게 구현한 이유는, 확률값이 작을 수 있어서 computation precision error를 방지하기 위해서 그냥 raw output 값을 받고, loss function에서 log(prob) 형태로 연산하도록 모듈을 구성하였습니다\n",
    "\n",
    "* 아래 코드를 보면 조금 더 이해가 될 것이라고 생각합니다\n"
   ]
  },
  {
   "cell_type": "code",
   "execution_count": 45,
   "metadata": {},
   "outputs": [
    {
     "name": "stdout",
     "output_type": "stream",
     "text": [
      "tensor(2.2840, grad_fn=<NllLossBackward0>)\n"
     ]
    }
   ],
   "source": [
    "criterion = nn.CrossEntropyLoss()\n",
    "# Get our data\n",
    "images, labels = next(iter(trainloader))\n",
    "# Flatten images\n",
    "images = images.reshape(images.shape[0], -1)\n",
    "\n",
    "# Forward pass, get our log-probabilities\n",
    "logits = model(images)\n",
    "# Calculate the loss with the logps and the labels\n",
    "loss = criterion(logits, labels)\n",
    "\n",
    "print(loss)"
   ]
  },
  {
   "cell_type": "markdown",
   "metadata": {},
   "source": [
    "### Problem 2: Implement softmax\n",
    "\n",
    "다음 `softmax` 함수를 만드세요\n",
    "\n",
    "- `softmax(x)`\n",
    "- `input`: (batchsize, num_class)의 최종 linear layer output\n",
    "- `output`: `softmax` 취한 output이 (batchsize, softmaxoutput) 차원으로 정렬\n",
    "\n",
    "- 유용할 수 있는 함수:\n",
    "    - `torch.sum`\n",
    "    - `torch.exp`\n",
    "    - broadcasting 사용 (reshape)"
   ]
  },
  {
   "cell_type": "code",
   "execution_count": 46,
   "metadata": {},
   "outputs": [
    {
     "data": {
      "text/plain": [
       "torch.Size([64, 10])"
      ]
     },
     "execution_count": 46,
     "metadata": {},
     "output_type": "execute_result"
    }
   ],
   "source": [
    "logits.shape"
   ]
  },
  {
   "cell_type": "code",
   "execution_count": 52,
   "metadata": {},
   "outputs": [],
   "source": [
    "# 답작성\n",
    "def softmax(x):    \n",
    "    return torch.exp(x)/torch.sum(torch.exp(x),axis = 1).reshape(-1,1)"
   ]
  },
  {
   "cell_type": "code",
   "execution_count": 53,
   "metadata": {},
   "outputs": [
    {
     "data": {
      "text/plain": [
       "tensor([[0.0967, 0.1151, 0.1096, 0.0954, 0.0952, 0.0943, 0.0877, 0.1019, 0.1021,\n",
       "         0.1020],\n",
       "        [0.0994, 0.1155, 0.1130, 0.1033, 0.0952, 0.0916, 0.0912, 0.0813, 0.1102,\n",
       "         0.0994],\n",
       "        [0.1116, 0.1114, 0.1144, 0.0913, 0.0984, 0.0872, 0.0917, 0.0909, 0.1027,\n",
       "         0.1003],\n",
       "        [0.1021, 0.0929, 0.1094, 0.0899, 0.1077, 0.0955, 0.0986, 0.1041, 0.1056,\n",
       "         0.0942],\n",
       "        [0.1126, 0.0961, 0.0966, 0.0893, 0.1069, 0.0965, 0.1034, 0.1002, 0.1021,\n",
       "         0.0964],\n",
       "        [0.1018, 0.0981, 0.0983, 0.0976, 0.1116, 0.0933, 0.0988, 0.1024, 0.0966,\n",
       "         0.1015],\n",
       "        [0.1046, 0.0900, 0.1027, 0.0918, 0.1136, 0.0863, 0.1039, 0.1020, 0.1068,\n",
       "         0.0982],\n",
       "        [0.1185, 0.0940, 0.1005, 0.0955, 0.1061, 0.0952, 0.0978, 0.0947, 0.1017,\n",
       "         0.0959],\n",
       "        [0.0945, 0.1003, 0.1002, 0.0934, 0.1079, 0.0976, 0.1014, 0.0991, 0.0991,\n",
       "         0.1065],\n",
       "        [0.1080, 0.0928, 0.1226, 0.1043, 0.0941, 0.1002, 0.1025, 0.0900, 0.1035,\n",
       "         0.0820],\n",
       "        [0.1046, 0.1008, 0.1034, 0.0932, 0.1114, 0.0938, 0.1030, 0.0985, 0.0985,\n",
       "         0.0928],\n",
       "        [0.0948, 0.1134, 0.1110, 0.1043, 0.0940, 0.0875, 0.1007, 0.0829, 0.1028,\n",
       "         0.1087],\n",
       "        [0.0975, 0.0941, 0.1042, 0.0970, 0.1072, 0.0951, 0.0931, 0.1065, 0.1082,\n",
       "         0.0970],\n",
       "        [0.1107, 0.1050, 0.1104, 0.0922, 0.0964, 0.0970, 0.0943, 0.1005, 0.0999,\n",
       "         0.0937],\n",
       "        [0.1043, 0.1206, 0.1127, 0.1041, 0.0832, 0.0850, 0.0897, 0.0904, 0.1127,\n",
       "         0.0973],\n",
       "        [0.1082, 0.0941, 0.1132, 0.0986, 0.1057, 0.0942, 0.1020, 0.1093, 0.0896,\n",
       "         0.0851],\n",
       "        [0.1050, 0.0944, 0.1058, 0.0955, 0.1123, 0.0870, 0.1042, 0.0991, 0.0999,\n",
       "         0.0969],\n",
       "        [0.1063, 0.1057, 0.1201, 0.0950, 0.1111, 0.0856, 0.1037, 0.0838, 0.0986,\n",
       "         0.0901],\n",
       "        [0.1016, 0.1057, 0.1253, 0.1010, 0.0938, 0.0907, 0.0915, 0.0975, 0.0986,\n",
       "         0.0942],\n",
       "        [0.1195, 0.0827, 0.1133, 0.0911, 0.1094, 0.1039, 0.1023, 0.0801, 0.1124,\n",
       "         0.0853],\n",
       "        [0.0927, 0.1100, 0.1093, 0.0997, 0.1021, 0.0933, 0.0995, 0.0899, 0.1011,\n",
       "         0.1024],\n",
       "        [0.1136, 0.0981, 0.0953, 0.0925, 0.0984, 0.0984, 0.0965, 0.1008, 0.1075,\n",
       "         0.0988],\n",
       "        [0.1021, 0.1049, 0.1163, 0.1010, 0.0930, 0.0996, 0.0868, 0.1052, 0.0961,\n",
       "         0.0951],\n",
       "        [0.1151, 0.1020, 0.1141, 0.1103, 0.1058, 0.0847, 0.0855, 0.0947, 0.0939,\n",
       "         0.0939],\n",
       "        [0.1025, 0.1004, 0.1196, 0.0914, 0.0927, 0.0934, 0.1000, 0.0988, 0.1067,\n",
       "         0.0945],\n",
       "        [0.1012, 0.0923, 0.0942, 0.0995, 0.1155, 0.0893, 0.1032, 0.1056, 0.1025,\n",
       "         0.0968],\n",
       "        [0.1032, 0.0940, 0.1129, 0.0902, 0.1080, 0.0942, 0.1016, 0.1009, 0.1028,\n",
       "         0.0921],\n",
       "        [0.1074, 0.0951, 0.1073, 0.1120, 0.1055, 0.0828, 0.1008, 0.1012, 0.0964,\n",
       "         0.0917],\n",
       "        [0.1125, 0.1039, 0.1102, 0.0991, 0.1122, 0.0859, 0.0996, 0.0858, 0.0929,\n",
       "         0.0981],\n",
       "        [0.1083, 0.1015, 0.1153, 0.0956, 0.1066, 0.0894, 0.1032, 0.0883, 0.0980,\n",
       "         0.0937],\n",
       "        [0.1031, 0.1017, 0.1133, 0.1089, 0.1090, 0.0867, 0.0972, 0.0946, 0.0952,\n",
       "         0.0904],\n",
       "        [0.1003, 0.1012, 0.1075, 0.0907, 0.1015, 0.0933, 0.1025, 0.0927, 0.1141,\n",
       "         0.0962],\n",
       "        [0.0997, 0.0959, 0.1108, 0.0962, 0.1002, 0.1012, 0.0939, 0.1001, 0.1073,\n",
       "         0.0948],\n",
       "        [0.1019, 0.0984, 0.1116, 0.1111, 0.1123, 0.0923, 0.0931, 0.0932, 0.0926,\n",
       "         0.0935],\n",
       "        [0.1005, 0.1142, 0.1085, 0.0895, 0.0993, 0.0912, 0.1066, 0.0913, 0.1031,\n",
       "         0.0958],\n",
       "        [0.0980, 0.1247, 0.1207, 0.0992, 0.0993, 0.0903, 0.0918, 0.0836, 0.1017,\n",
       "         0.0908],\n",
       "        [0.1220, 0.0903, 0.1009, 0.0915, 0.1051, 0.0900, 0.1036, 0.0976, 0.0996,\n",
       "         0.0994],\n",
       "        [0.1009, 0.1121, 0.1069, 0.0970, 0.0942, 0.0967, 0.0938, 0.0981, 0.1010,\n",
       "         0.0993],\n",
       "        [0.1049, 0.0988, 0.1028, 0.1030, 0.1066, 0.0924, 0.0975, 0.0994, 0.0997,\n",
       "         0.0949],\n",
       "        [0.1143, 0.0825, 0.1035, 0.0893, 0.1088, 0.0992, 0.1063, 0.0950, 0.1030,\n",
       "         0.0980],\n",
       "        [0.1008, 0.0944, 0.1110, 0.0912, 0.1066, 0.1002, 0.0980, 0.1061, 0.1013,\n",
       "         0.0905],\n",
       "        [0.1068, 0.0993, 0.1090, 0.0934, 0.1010, 0.0939, 0.0971, 0.1018, 0.1006,\n",
       "         0.0970],\n",
       "        [0.0976, 0.1111, 0.1058, 0.0957, 0.0985, 0.0986, 0.0956, 0.0991, 0.0993,\n",
       "         0.0988],\n",
       "        [0.1050, 0.0973, 0.1009, 0.1053, 0.0992, 0.0849, 0.1064, 0.1050, 0.0932,\n",
       "         0.1028],\n",
       "        [0.1018, 0.0958, 0.1085, 0.0952, 0.0980, 0.0982, 0.1009, 0.1039, 0.1100,\n",
       "         0.0877],\n",
       "        [0.1045, 0.1130, 0.1145, 0.0932, 0.0997, 0.0931, 0.0905, 0.0983, 0.1032,\n",
       "         0.0900],\n",
       "        [0.1119, 0.0992, 0.1004, 0.0959, 0.1006, 0.0906, 0.0962, 0.0999, 0.1042,\n",
       "         0.1009],\n",
       "        [0.1050, 0.0970, 0.1238, 0.0972, 0.1110, 0.0816, 0.0984, 0.0901, 0.1005,\n",
       "         0.0954],\n",
       "        [0.1007, 0.1021, 0.1187, 0.0990, 0.1074, 0.0857, 0.1010, 0.0830, 0.1013,\n",
       "         0.1013],\n",
       "        [0.1010, 0.1109, 0.1102, 0.0901, 0.0943, 0.0954, 0.1058, 0.0963, 0.0988,\n",
       "         0.0972],\n",
       "        [0.0978, 0.0915, 0.1202, 0.0890, 0.1044, 0.0937, 0.0973, 0.0846, 0.1110,\n",
       "         0.1106],\n",
       "        [0.1082, 0.1017, 0.1015, 0.0991, 0.1026, 0.0913, 0.0939, 0.0987, 0.1044,\n",
       "         0.0987],\n",
       "        [0.1005, 0.1019, 0.1243, 0.0981, 0.0971, 0.0874, 0.0983, 0.0928, 0.1012,\n",
       "         0.0985],\n",
       "        [0.1020, 0.1013, 0.1080, 0.0910, 0.0989, 0.0976, 0.1034, 0.0924, 0.1084,\n",
       "         0.0970],\n",
       "        [0.1012, 0.0915, 0.0985, 0.1054, 0.1155, 0.0960, 0.0987, 0.1002, 0.0962,\n",
       "         0.0968],\n",
       "        [0.1074, 0.0980, 0.1096, 0.0988, 0.1015, 0.0947, 0.0973, 0.0981, 0.1004,\n",
       "         0.0942],\n",
       "        [0.1025, 0.1062, 0.1117, 0.0976, 0.0998, 0.0959, 0.1052, 0.0973, 0.0899,\n",
       "         0.0941],\n",
       "        [0.1014, 0.1037, 0.1128, 0.1011, 0.0952, 0.0951, 0.0902, 0.0996, 0.1050,\n",
       "         0.0959],\n",
       "        [0.1122, 0.1035, 0.1032, 0.1069, 0.0968, 0.0933, 0.0867, 0.0950, 0.1052,\n",
       "         0.0971],\n",
       "        [0.1094, 0.0968, 0.1116, 0.0928, 0.1059, 0.1018, 0.0961, 0.1016, 0.0938,\n",
       "         0.0902],\n",
       "        [0.1072, 0.0958, 0.0956, 0.0914, 0.1064, 0.0985, 0.0982, 0.1002, 0.1055,\n",
       "         0.1013],\n",
       "        [0.1074, 0.0982, 0.1052, 0.0927, 0.1008, 0.0928, 0.0997, 0.1156, 0.0998,\n",
       "         0.0879],\n",
       "        [0.1015, 0.1182, 0.1104, 0.0969, 0.0944, 0.0894, 0.0942, 0.1046, 0.0996,\n",
       "         0.0906],\n",
       "        [0.1048, 0.1041, 0.1036, 0.0964, 0.0985, 0.0942, 0.1016, 0.1059, 0.0942,\n",
       "         0.0967]], grad_fn=<DivBackward0>)"
      ]
     },
     "execution_count": 53,
     "metadata": {},
     "output_type": "execute_result"
    }
   ],
   "source": [
    "ps = softmax(logits)\n",
    "ps"
   ]
  },
  {
   "cell_type": "markdown",
   "metadata": {},
   "source": [
    "### Problem 3: Finding the Highest probability index\n",
    "\n",
    "Sample별 예측 확률값을 통하여 가장 높은 확률 값 예측 받는 함수를 작성하세요.\n",
    "\n",
    "`get_pred(ps)`\n",
    "- `input`: sample 별 확률값을 (batchsize, class probabilities) 로 받음\n",
    "- `output`: sample 별로 가장 높은 확률값의 index를 return\n",
    "\n",
    "- 유용할 수 있는 함수\n",
    "  - `torch.argmax`\n",
    "\n"
   ]
  },
  {
   "cell_type": "code",
   "execution_count": 54,
   "metadata": {},
   "outputs": [],
   "source": [
    "def get_pred(ps):\n",
    "    return torch.argmax(ps,axis =1)\n",
    "    "
   ]
  },
  {
   "cell_type": "code",
   "execution_count": 57,
   "metadata": {},
   "outputs": [
    {
     "data": {
      "text/plain": [
       "tensor([1, 1, 2, 2, 0, 4, 4, 0, 4, 2, 4, 1, 8, 0, 1, 2, 4, 2, 2, 0, 1, 0, 2, 0,\n",
       "        2, 4, 2, 3, 0, 2, 2, 8, 2, 4, 1, 1, 0, 1, 4, 0, 2, 2, 1, 6, 8, 2, 0, 2,\n",
       "        2, 1, 2, 0, 2, 8, 4, 2, 2, 2, 0, 2, 0, 7, 1, 7])"
      ]
     },
     "execution_count": 57,
     "metadata": {},
     "output_type": "execute_result"
    }
   ],
   "source": [
    "get_pred(ps)"
   ]
  },
  {
   "cell_type": "markdown",
   "metadata": {},
   "source": [
    "# Calculating Gradients"
   ]
  },
  {
   "cell_type": "code",
   "execution_count": 55,
   "metadata": {},
   "outputs": [
    {
     "name": "stdout",
     "output_type": "stream",
     "text": [
      "Before backward pass: \n",
      " None\n",
      "After backward pass: \n",
      " tensor([[-1.7774e-03, -1.7774e-03, -1.7774e-03,  ..., -1.7774e-03,\n",
      "         -1.7774e-03, -1.7774e-03],\n",
      "        [-3.0143e-03, -3.0143e-03, -3.0143e-03,  ..., -3.0143e-03,\n",
      "         -3.0143e-03, -3.0143e-03],\n",
      "        [-1.7573e-04, -1.7573e-04, -1.7573e-04,  ..., -1.7573e-04,\n",
      "         -1.7573e-04, -1.7573e-04],\n",
      "        ...,\n",
      "        [ 1.7473e-04,  1.7473e-04,  1.7473e-04,  ...,  1.7473e-04,\n",
      "          1.7473e-04,  1.7473e-04],\n",
      "        [ 2.9014e-03,  2.9014e-03,  2.9014e-03,  ...,  2.9014e-03,\n",
      "          2.9014e-03,  2.9014e-03],\n",
      "        [ 2.9927e-05,  2.9927e-05,  2.9927e-05,  ...,  2.9927e-05,\n",
      "          2.9927e-05,  2.9927e-05]])\n"
     ]
    }
   ],
   "source": [
    "\n",
    "print('Before backward pass: \\n', model.seq[0].weight.grad)\n",
    "\n",
    "loss.backward()\n",
    "\n",
    "print('After backward pass: \\n', model.seq[0].weight.grad)"
   ]
  },
  {
   "cell_type": "markdown",
   "metadata": {},
   "source": [
    "## Training the network!\n",
    "\n",
    "\n",
    "* 자, 그럼 network parameter에 대한 loss function의 gradient를 구했으니, 이제 최적화를 할 수 있습니다\n",
    "* 최적화 기법은 SGD 이외에도 많으며 (SGD의 변형들임) [`optim` package](https://pytorch.org/docs/stable/optim.html)에서 찾아서 사용할 수 있습니다\n",
    "* 예를 들어서 SGD는 `optim.SGD`를 통해서 불러올 수 있습니다\n",
    "* 아래 예를 보죠"
   ]
  },
  {
   "cell_type": "code",
   "execution_count": 64,
   "metadata": {},
   "outputs": [],
   "source": [
    "from torch import optim\n",
    "\n",
    "# Optimizers require the parameters to optimize and a learning rate\n",
    "optimizer = optim.SGD(model.parameters(), lr=0.1)"
   ]
  },
  {
   "cell_type": "markdown",
   "metadata": {},
   "source": [
    "* model.parameters()는 우리 network의 모든 training parameter이며, lr는 learning rate 입니다\n",
    "* 자, 이제 traning에 필요한 모든 부분이 준비되었습니다\n",
    "* 전체 데이터에 대한 training은 숙제로 하고, 한 batch만 수행하는 과정을 살펴보죠\n",
    "* Pytorch에서 training의 전체 흐름은 다음과 같습니다:\n",
    "\n",
    "1. Network에서 forward pass\n",
    "2. Foward pass를 통해서 얻은 output을 활용하여 loss를 구한다\n",
    "3. Gradient를 구하기 위해서 `loss.backward()`를 실행한다\n",
    "4. Optimizer에서 weight를 한번 update 한다 (SGD의 경우 gradient에 대해서 한번 update)\n",
    "\n",
    "**[중요]**\n",
    "* 한가지 주의할 점은, 한 Parameter들에 대해서 gradient를 여러개 구해야하는 경우, (예, batch 처리) gradient 값들은 계속 추가적으로 저장됩니다\n",
    "* 한번 parameter update가 끝났으면, gradient 값을 초기화해야, 새로운 batch에 대한 새 gradient 값을 계산 합니다\n",
    "* 이를 위해서 batch 시작시에 `optimizer.zero_grad()`를 실행해줘야합니다"
   ]
  },
  {
   "cell_type": "code",
   "execution_count": 65,
   "metadata": {},
   "outputs": [
    {
     "name": "stdout",
     "output_type": "stream",
     "text": [
      "Initial weights -  Parameter containing:\n",
      "tensor([[-0.0160, -0.0313,  0.0356,  ..., -0.0100,  0.0210,  0.0009],\n",
      "        [ 0.0113, -0.0188,  0.0309,  ..., -0.0321, -0.0245, -0.0084],\n",
      "        [ 0.0056, -0.0343, -0.0346,  ...,  0.0151,  0.0254,  0.0028],\n",
      "        ...,\n",
      "        [-0.0232,  0.0124,  0.0334,  ..., -0.0308, -0.0300, -0.0077],\n",
      "        [ 0.0301, -0.0242,  0.0058,  ..., -0.0193,  0.0023,  0.0051],\n",
      "        [-0.0310, -0.0319,  0.0325,  ...,  0.0286, -0.0270,  0.0110]],\n",
      "       requires_grad=True)\n",
      "Gradient - Parameter containing:\n",
      "tensor([[-0.0160, -0.0312,  0.0356,  ..., -0.0099,  0.0210,  0.0010],\n",
      "        [ 0.0114, -0.0186,  0.0310,  ..., -0.0320, -0.0244, -0.0083],\n",
      "        [ 0.0056, -0.0343, -0.0345,  ...,  0.0151,  0.0254,  0.0028],\n",
      "        ...,\n",
      "        [-0.0232,  0.0124,  0.0333,  ..., -0.0308, -0.0301, -0.0077],\n",
      "        [ 0.0300, -0.0243,  0.0057,  ..., -0.0193,  0.0022,  0.0051],\n",
      "        [-0.0310, -0.0319,  0.0325,  ...,  0.0287, -0.0270,  0.0110]],\n",
      "       requires_grad=True)\n"
     ]
    }
   ],
   "source": [
    "print('Initial weights - ', model.seq[0].weight)\n",
    "\n",
    "images, labels = next(iter(trainloader))\n",
    "images = images.reshape(images.shape[0], -1)\n",
    "\n",
    "# Clear the gradients, do this because gradients are accumulated\n",
    "optimizer.zero_grad()\n",
    "\n",
    "# Forward pass, then backward pass, then update weights\n",
    "output = model(images)\n",
    "loss = criterion(output, labels)\n",
    "loss.backward()\n",
    "optimizer.step()\n",
    "\n",
    "\n",
    "print('Gradient -', model.seq[0].weight)"
   ]
  },
  {
   "cell_type": "code",
   "execution_count": 66,
   "metadata": {},
   "outputs": [
    {
     "name": "stdout",
     "output_type": "stream",
     "text": [
      "------ Starting epoch: 0 --------\n",
      "Training loss: 0.747716810387462\n",
      "Training acc: 0.8139658570289612\n",
      "------ Starting epoch: 1 --------\n",
      "Training loss: 0.310067354520755\n",
      "Training acc: 0.9109141826629639\n",
      "------ Starting epoch: 2 --------\n",
      "Training loss: 0.2538989438558184\n",
      "Training acc: 0.9264225959777832\n",
      "------ Starting epoch: 3 --------\n",
      "Training loss: 0.2164201992414971\n",
      "Training acc: 0.9378165006637573\n",
      "------ Starting epoch: 4 --------\n",
      "Training loss: 0.18855808418331496\n",
      "Training acc: 0.9463952779769897\n",
      "------ Starting epoch: 5 --------\n",
      "Training loss: 0.16574235087725273\n",
      "Training acc: 0.9528584480285645\n",
      "------ Starting epoch: 6 --------\n",
      "Training loss: 0.14806592804210972\n",
      "Training acc: 0.957722544670105\n",
      "------ Starting epoch: 7 --------\n",
      "Training loss: 0.13349785508790504\n",
      "Training acc: 0.961670458316803\n",
      "------ Starting epoch: 8 --------\n",
      "Training loss: 0.12140391498748491\n",
      "Training acc: 0.9651519060134888\n",
      "------ Starting epoch: 9 --------\n",
      "Training loss: 0.11101568156261561\n",
      "Training acc: 0.9685667753219604\n",
      "------ Starting epoch: 10 --------\n",
      "Training loss: 0.10178435583318919\n",
      "Training acc: 0.970649003982544\n",
      "------ Starting epoch: 11 --------\n",
      "Training loss: 0.09415966593451909\n",
      "Training acc: 0.9731476306915283\n",
      "------ Starting epoch: 12 --------\n",
      "Training loss: 0.08707005754192627\n",
      "Training acc: 0.974880039691925\n",
      "------ Starting epoch: 13 --------\n",
      "Training loss: 0.08096447583935312\n",
      "Training acc: 0.9767457246780396\n",
      "------ Starting epoch: 14 --------\n",
      "Training loss: 0.07541725295149028\n",
      "Training acc: 0.9788779020309448\n",
      "------ Starting epoch: 15 --------\n",
      "Training loss: 0.07003872888659173\n",
      "Training acc: 0.9800606369972229\n",
      "------ Starting epoch: 16 --------\n",
      "Training loss: 0.06572688659573638\n",
      "Training acc: 0.9813099503517151\n",
      "------ Starting epoch: 17 --------\n",
      "Training loss: 0.06151544364657738\n",
      "Training acc: 0.9828758239746094\n",
      "------ Starting epoch: 18 --------\n",
      "Training loss: 0.05787613738014468\n",
      "Training acc: 0.9839918613433838\n",
      "------ Starting epoch: 19 --------\n",
      "Training loss: 0.05438088469389977\n",
      "Training acc: 0.9851245880126953\n",
      "------ Starting epoch: 20 --------\n",
      "Training loss: 0.051171106909876314\n",
      "Training acc: 0.986190676689148\n",
      "------ Starting epoch: 21 --------\n",
      "Training loss: 0.04792288580645265\n",
      "Training acc: 0.9869236350059509\n",
      "------ Starting epoch: 22 --------\n",
      "Training loss: 0.04520560805745391\n",
      "Training acc: 0.9875233173370361\n",
      "------ Starting epoch: 23 --------\n",
      "Training loss: 0.04289514125326772\n",
      "Training acc: 0.9886727333068848\n",
      "------ Starting epoch: 24 --------\n",
      "Training loss: 0.040448170846332114\n",
      "Training acc: 0.9893056750297546\n",
      "------ Starting epoch: 25 --------\n",
      "Training loss: 0.03806553144446775\n",
      "Training acc: 0.9902052283287048\n",
      "------ Starting epoch: 26 --------\n",
      "Training loss: 0.036078402173093785\n",
      "Training acc: 0.9908548593521118\n",
      "------ Starting epoch: 27 --------\n",
      "Training loss: 0.03442774818135874\n",
      "Training acc: 0.9912213683128357\n",
      "------ Starting epoch: 28 --------\n",
      "Training loss: 0.03247361660906191\n",
      "Training acc: 0.9921208620071411\n",
      "------ Starting epoch: 29 --------\n",
      "Training loss: 0.030750343798727257\n",
      "Training acc: 0.9925373196601868\n",
      "------ Starting epoch: 30 --------\n",
      "Training loss: 0.029045879510097277\n",
      "Training acc: 0.9931703209877014\n",
      "------ Starting epoch: 31 --------\n",
      "Training loss: 0.027467701043228685\n",
      "Training acc: 0.993786633014679\n",
      "------ Starting epoch: 32 --------\n",
      "Training loss: 0.02608843688440543\n",
      "Training acc: 0.9942697286605835\n",
      "------ Starting epoch: 33 --------\n",
      "Training loss: 0.024846870640068373\n",
      "Training acc: 0.9944196343421936\n",
      "------ Starting epoch: 34 --------\n",
      "Training loss: 0.023438686943689446\n",
      "Training acc: 0.9950360059738159\n",
      "------ Starting epoch: 35 --------\n",
      "Training loss: 0.022239064882029848\n",
      "Training acc: 0.9955690503120422\n",
      "------ Starting epoch: 36 --------\n",
      "Training loss: 0.021146203142909537\n",
      "Training acc: 0.9956856369972229\n",
      "------ Starting epoch: 37 --------\n",
      "Training loss: 0.020168134644041772\n",
      "Training acc: 0.9960354566574097\n",
      "------ Starting epoch: 38 --------\n",
      "Training loss: 0.01913237114246291\n",
      "Training acc: 0.996268630027771\n",
      "------ Starting epoch: 39 --------\n",
      "Training loss: 0.018184691301059486\n",
      "Training acc: 0.9964185953140259\n",
      "------ Starting epoch: 40 --------\n",
      "Training loss: 0.017188700844100846\n",
      "Training acc: 0.9969516396522522\n",
      "------ Starting epoch: 41 --------\n",
      "Training loss: 0.016415798392614474\n",
      "Training acc: 0.9973347783088684\n",
      "------ Starting epoch: 42 --------\n",
      "Training loss: 0.015640581044979566\n",
      "Training acc: 0.9975513219833374\n",
      "------ Starting epoch: 43 --------\n",
      "Training loss: 0.014816449703038064\n",
      "Training acc: 0.9978345036506653\n",
      "------ Starting epoch: 44 --------\n",
      "Training loss: 0.014108215611843047\n",
      "Training acc: 0.9979011416435242\n",
      "------ Starting epoch: 45 --------\n",
      "Training loss: 0.013423409753492467\n",
      "Training acc: 0.9980843663215637\n",
      "------ Starting epoch: 46 --------\n",
      "Training loss: 0.012837514380250733\n",
      "Training acc: 0.9982842206954956\n",
      "------ Starting epoch: 47 --------\n",
      "Training loss: 0.01216241228903062\n",
      "Training acc: 0.9985840916633606\n",
      "------ Starting epoch: 48 --------\n",
      "Training loss: 0.011566009499189227\n",
      "Training acc: 0.9985008239746094\n",
      "------ Starting epoch: 49 --------\n",
      "Training loss: 0.011131568484121005\n",
      "Training acc: 0.9985840916633606\n",
      "------ Starting epoch: 50 --------\n",
      "Training loss: 0.01061021644216992\n",
      "Training acc: 0.9987840056419373\n",
      "------ Starting epoch: 51 --------\n",
      "Training loss: 0.010061446794286133\n",
      "Training acc: 0.9989005923271179\n",
      "------ Starting epoch: 52 --------\n",
      "Training loss: 0.00960892396809003\n",
      "Training acc: 0.9989672303199768\n",
      "------ Starting epoch: 53 --------\n",
      "Training loss: 0.009311190634436691\n",
      "Training acc: 0.9989339113235474\n",
      "------ Starting epoch: 54 --------\n",
      "Training loss: 0.008826765291485142\n",
      "Training acc: 0.9991171360015869\n",
      "------ Starting epoch: 55 --------\n",
      "Training loss: 0.008414327892770709\n",
      "Training acc: 0.9991670846939087\n",
      "------ Starting epoch: 56 --------\n",
      "Training loss: 0.008071085496867416\n",
      "Training acc: 0.9992170929908752\n",
      "------ Starting epoch: 57 --------\n",
      "Training loss: 0.007658693071762308\n",
      "Training acc: 0.9993003606796265\n",
      "------ Starting epoch: 58 --------\n",
      "Training loss: 0.0073389152534304065\n",
      "Training acc: 0.9993170499801636\n",
      "------ Starting epoch: 59 --------\n",
      "Training loss: 0.00708386803759254\n",
      "Training acc: 0.9994336366653442\n",
      "------ Starting epoch: 60 --------\n",
      "Training loss: 0.006875985994317464\n",
      "Training acc: 0.9994170069694519\n",
      "------ Starting epoch: 61 --------\n",
      "Training loss: 0.006534535549909322\n",
      "Training acc: 0.9995002746582031\n",
      "------ Starting epoch: 62 --------\n",
      "Training loss: 0.006277415179380668\n",
      "Training acc: 0.9995002746582031\n",
      "------ Starting epoch: 63 --------\n",
      "Training loss: 0.00602756864100229\n",
      "Training acc: 0.999566912651062\n",
      "------ Starting epoch: 64 --------\n",
      "Training loss: 0.005793605450781431\n",
      "Training acc: 0.9996168613433838\n",
      "------ Starting epoch: 65 --------\n",
      "Training loss: 0.005569204901479609\n",
      "Training acc: 0.9996834993362427\n",
      "------ Starting epoch: 66 --------\n",
      "Training loss: 0.005333629646040658\n",
      "Training acc: 0.9997168183326721\n",
      "------ Starting epoch: 67 --------\n",
      "Training loss: 0.005157958053917846\n",
      "Training acc: 0.9997667670249939\n",
      "------ Starting epoch: 68 --------\n",
      "Training loss: 0.004984508371825811\n",
      "Training acc: 0.9997168183326721\n",
      "------ Starting epoch: 69 --------\n",
      "Training loss: 0.004806822385335627\n",
      "Training acc: 0.9997334480285645\n",
      "------ Starting epoch: 70 --------\n",
      "Training loss: 0.004667891075197078\n",
      "Training acc: 0.999783456325531\n",
      "------ Starting epoch: 71 --------\n",
      "Training loss: 0.004426471240434876\n",
      "Training acc: 0.9998000860214233\n",
      "------ Starting epoch: 72 --------\n",
      "Training loss: 0.004293173411004702\n",
      "Training acc: 0.9998167753219604\n",
      "------ Starting epoch: 73 --------\n",
      "Training loss: 0.004138528562063646\n",
      "Training acc: 0.9998334050178528\n",
      "------ Starting epoch: 74 --------\n",
      "Training loss: 0.003991340378444627\n",
      "Training acc: 0.9998000860214233\n",
      "------ Starting epoch: 75 --------\n",
      "Training loss: 0.003877740424352391\n",
      "Training acc: 0.9998500943183899\n",
      "------ Starting epoch: 76 --------\n",
      "Training loss: 0.0037627647444425866\n",
      "Training acc: 0.9998500943183899\n",
      "------ Starting epoch: 77 --------\n",
      "Training loss: 0.003654717989049967\n",
      "Training acc: 0.9998500943183899\n",
      "------ Starting epoch: 78 --------\n",
      "Training loss: 0.003536547297241488\n",
      "Training acc: 0.9998500943183899\n",
      "------ Starting epoch: 79 --------\n",
      "Training loss: 0.003413658895021296\n",
      "Training acc: 0.9998834133148193\n",
      "------ Starting epoch: 80 --------\n",
      "Training loss: 0.0033416393324704236\n",
      "Training acc: 0.9999500513076782\n",
      "------ Starting epoch: 81 --------\n",
      "Training loss: 0.003228499528561989\n",
      "Training acc: 0.9999333620071411\n",
      "------ Starting epoch: 82 --------\n",
      "Training loss: 0.003142374904095833\n",
      "Training acc: 0.9999167323112488\n",
      "------ Starting epoch: 83 --------\n",
      "Training loss: 0.003057125739705526\n",
      "Training acc: 0.9998834133148193\n",
      "------ Starting epoch: 84 --------\n",
      "Training loss: 0.0029578734452416476\n",
      "Training acc: 0.9999167323112488\n",
      "------ Starting epoch: 85 --------\n",
      "Training loss: 0.0028917231910198286\n",
      "Training acc: 0.9999333620071411\n",
      "------ Starting epoch: 86 --------\n",
      "Training loss: 0.0028099631118611856\n",
      "Training acc: 0.9999500513076782\n",
      "------ Starting epoch: 87 --------\n",
      "Training loss: 0.0027324747909184374\n",
      "Training acc: 0.9999167323112488\n",
      "------ Starting epoch: 88 --------\n",
      "Training loss: 0.002677260625375887\n",
      "Training acc: 0.9999666810035706\n",
      "------ Starting epoch: 89 --------\n",
      "Training loss: 0.002600270311478704\n",
      "Training acc: 0.9999333620071411\n",
      "------ Starting epoch: 90 --------\n",
      "Training loss: 0.0025331907816465073\n",
      "Training acc: 0.9999500513076782\n",
      "------ Starting epoch: 91 --------\n",
      "Training loss: 0.002482571542702505\n",
      "Training acc: 0.9999666810035706\n",
      "------ Starting epoch: 92 --------\n",
      "Training loss: 0.002413287173236732\n",
      "Training acc: 0.9999500513076782\n",
      "------ Starting epoch: 93 --------\n",
      "Training loss: 0.002355557739709083\n",
      "Training acc: 0.9999333620071411\n",
      "------ Starting epoch: 94 --------\n",
      "Training loss: 0.002293441154512399\n",
      "Training acc: 0.9999833703041077\n",
      "------ Starting epoch: 95 --------\n",
      "Training loss: 0.002259080312292671\n",
      "Training acc: 0.9999833703041077\n",
      "------ Starting epoch: 96 --------\n",
      "Training loss: 0.0021966183509005343\n",
      "Training acc: 1.0\n",
      "------ Starting epoch: 97 --------\n",
      "Training loss: 0.0021620751327696267\n",
      "Training acc: 0.9999500513076782\n",
      "------ Starting epoch: 98 --------\n",
      "Training loss: 0.002099583795672112\n",
      "Training acc: 0.9999833703041077\n",
      "------ Starting epoch: 99 --------\n",
      "Training loss: 0.0020535727756751106\n",
      "Training acc: 1.0\n"
     ]
    }
   ],
   "source": [
    "criterion = nn.CrossEntropyLoss()\n",
    "optimizer = optim.SGD(model.parameters(), lr=0.01)\n",
    "\n",
    "epochs = 100\n",
    "loss_epoch = []\n",
    "acc_epoch = []\n",
    "\n",
    "for e in range(epochs):\n",
    "    print(f\"------ Starting epoch: {e} --------\")\n",
    "    running_loss = 0\n",
    "    running_acc = 0\n",
    "\n",
    "    for images, labels in trainloader:\n",
    "        images = images.reshape(images.shape[0], -1)\n",
    "    \n",
    "        logits = model(images)\n",
    "        loss = criterion(logits, labels)\n",
    "        \n",
    "        optimizer.zero_grad()\n",
    "        loss.backward()\n",
    "        optimizer.step()\n",
    "\n",
    "        running_loss += loss.item()\n",
    "        ps = softmax(logits)\n",
    "        pred = get_pred(ps)\n",
    "        running_acc += torch.sum(pred==labels)/labels.shape[0] \n",
    "        \n",
    "               \n",
    "    acc_epoch.append(running_acc/len(trainloader))    \n",
    "    loss_epoch.append(running_loss/len(trainloader))\n",
    "    print(f\"Training loss: {loss_epoch[e]}\")\n",
    "    print(f\"Training acc: {acc_epoch[e]}\")"
   ]
  },
  {
   "cell_type": "code",
   "execution_count": 67,
   "metadata": {},
   "outputs": [
    {
     "data": {
      "image/png": "[encoded data removed]",
      "text/plain": [
       "<Figure size 432x288 with 1 Axes>"
      ]
     },
     "metadata": {
      "needs_background": "light"
     },
     "output_type": "display_data"
    }
   ],
   "source": [
    "plt.plot(range(epochs), loss_epoch)\n",
    "plt.xlabel('epoch')\n",
    "plt.ylabel('loss')\n",
    "plt.grid()"
   ]
  },
  {
   "cell_type": "code",
   "execution_count": 68,
   "metadata": {},
   "outputs": [
    {
     "data": {
      "image/png": "[encoded data removed]",
      "text/plain": [
       "<Figure size 432x288 with 1 Axes>"
      ]
     },
     "metadata": {
      "needs_background": "light"
     },
     "output_type": "display_data"
    }
   ],
   "source": [
    "plt.plot(range(epochs), acc_epoch)\n",
    "plt.xlabel('epoch')\n",
    "plt.ylabel('accuracy')\n",
    "plt.grid()"
   ]
  },
  {
   "cell_type": "code",
   "execution_count": 69,
   "metadata": {},
   "outputs": [],
   "source": [
    "def view_classify(img, ps, version=\"MNIST\"):\n",
    "    ''' Function for viewing an image and it's predicted classes.\n",
    "    '''\n",
    "    ps = ps.data.numpy().squeeze()\n",
    "\n",
    "    fig, (ax1, ax2) = plt.subplots(figsize=(6,9), ncols=2)\n",
    "    ax1.imshow(img.resize_(1, 28, 28).numpy().squeeze())\n",
    "    ax1.axis('off')\n",
    "    ax2.barh(np.arange(10), ps)\n",
    "    ax2.set_aspect(0.1)\n",
    "    ax2.set_yticks(np.arange(10))\n",
    "    if version == \"MNIST\":\n",
    "        ax2.set_yticklabels(np.arange(10))\n",
    "    elif version == \"Fashion\":\n",
    "        ax2.set_yticklabels(['T-shirt/top',\n",
    "                            'Trouser',\n",
    "                            'Pullover',\n",
    "                            'Dress',\n",
    "                            'Coat',\n",
    "                            'Sandal',\n",
    "                            'Shirt',\n",
    "                            'Sneaker',\n",
    "                            'Bag',\n",
    "                            'Ankle Boot'], size='small');\n",
    "    ax2.set_title('Class Probability')\n",
    "    ax2.set_xlim(0, 1.1)\n",
    "\n",
    "    plt.tight_layout()"
   ]
  },
  {
   "cell_type": "code",
   "execution_count": 7,
   "metadata": {},
   "outputs": [
    {
     "ename": "NameError",
     "evalue": "name 'model' is not defined",
     "output_type": "error",
     "traceback": [
      "\u001b[0;31m---------------------------------------------------------------------------\u001b[0m",
      "\u001b[0;31mNameError\u001b[0m                                 Traceback (most recent call last)",
      "Input \u001b[0;32mIn [7]\u001b[0m, in \u001b[0;36m<cell line: 5>\u001b[0;34m()\u001b[0m\n\u001b[1;32m      4\u001b[0m \u001b[38;5;66;03m# Turn off gradients to speed up this part\u001b[39;00m\n\u001b[1;32m      5\u001b[0m \u001b[38;5;28;01mwith\u001b[39;00m torch\u001b[38;5;241m.\u001b[39mno_grad():\n\u001b[0;32m----> 6\u001b[0m     logps \u001b[38;5;241m=\u001b[39m \u001b[43mmodel\u001b[49m(img)\n\u001b[1;32m      8\u001b[0m \u001b[38;5;66;03m# Output of the network are log-probabilities, need to take exponential for probabilities\u001b[39;00m\n\u001b[1;32m      9\u001b[0m ps \u001b[38;5;241m=\u001b[39m softmax(logps)\n",
      "\u001b[0;31mNameError\u001b[0m: name 'model' is not defined"
     ]
    }
   ],
   "source": [
    "images, labels = next(iter(trainloader))\n",
    "\n",
    "img = images[0].view(1, 784)\n",
    "# Turn off gradients to speed up this part\n",
    "with torch.no_grad():\n",
    "    logps = model(img)\n",
    "\n",
    "# Output of the network are log-probabilities, need to take exponential for probabilities\n",
    "ps = softmax(logps)\n",
    "view_classify(img.view(1, 28, 28), ps)"
   ]
  },
  {
   "cell_type": "code",
   "execution_count": 92,
   "metadata": {},
   "outputs": [
    {
     "data": {
      "text/plain": [
       "tensor(8)"
      ]
     },
     "execution_count": 92,
     "metadata": {},
     "output_type": "execute_result"
    }
   ],
   "source": [
    "labels[0]"
   ]
  },
  {
   "cell_type": "code",
   "execution_count": null,
   "metadata": {},
   "outputs": [],
   "source": []
  }
 ],
 "metadata": {
  "kernelspec": {
   "display_name": "Python 3 (ipykernel)",
   "language": "python",
   "name": "python3"
  },
  "language_info": {
   "codemirror_mode": {
    "name": "ipython",
    "version": 3
   },
   "file_extension": ".py",
   "mimetype": "text/x-python",
   "name": "python",
   "nbconvert_exporter": "python",
   "pygments_lexer": "ipython3",
   "version": "3.10.5"
  }
 },
 "nbformat": 4,
 "nbformat_minor": 4
}
