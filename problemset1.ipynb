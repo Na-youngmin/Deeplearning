{
 "cells": [
  {
   "cell_type": "markdown",
   "metadata": {},
   "source": [
    "# 이름/학번\n",
    "\n",
    "이름: 나영민\n",
    "\n",
    "학번: 20183217"
   ]
  },
  {
   "cell_type": "code",
   "execution_count": 2,
   "metadata": {},
   "outputs": [],
   "source": [
    "import numpy as np\n",
    "import torch"
   ]
  },
  {
   "cell_type": "markdown",
   "metadata": {},
   "source": [
    "# Example dataset\n",
    "\n",
    "강의를 위해서 임의의 dataset을 준비하겠습니다.\n",
    "예제로 봐주시고, 큰 물리적 의미는 부여하지 않겠습니다.\n",
    "\n",
    "- Data는 장미과와 국화과의 A 효소, B 효소, C 효소, D 효소를 측정한 값이라고 가정합니다.\n",
    "- Label은 각 sample이 장미인지 (0) 국화인지 (1)에 대한 정보라고 가정합니다."
   ]
  },
  {
   "cell_type": "code",
   "execution_count": 3,
   "metadata": {},
   "outputs": [],
   "source": [
    "batch_size = 10\n",
    "num_feature = 4\n",
    "torch.manual_seed(0)\n",
    "\n",
    "X_batch = torch.randn(batch_size, num_feature)\n",
    "Y_batch = (torch.sum(X_batch, dim=1)>0).type(torch.float).reshape(-1,1)"
   ]
  },
  {
   "cell_type": "code",
   "execution_count": 4,
   "metadata": {},
   "outputs": [
    {
     "data": {
      "text/plain": [
       "tensor([[-1.1258, -1.1524, -0.2506, -0.4339],\n",
       "        [ 0.8487,  0.6920, -0.3160, -2.1152],\n",
       "        [ 0.3223, -1.2633,  0.3500,  0.3081],\n",
       "        [ 0.1198,  1.2377,  1.1168, -0.2473],\n",
       "        [-1.3527, -1.6959,  0.5667,  0.7935],\n",
       "        [ 0.5988, -1.5551, -0.3414,  1.8530],\n",
       "        [-0.2159, -0.7425,  0.5627,  0.2596],\n",
       "        [-0.1740, -0.6787,  0.9383,  0.4889],\n",
       "        [ 1.2032,  0.0845, -1.2001, -0.0048],\n",
       "        [-0.5181, -0.3067, -1.5810,  1.7066]])"
      ]
     },
     "execution_count": 4,
     "metadata": {},
     "output_type": "execute_result"
    }
   ],
   "source": [
    "X_batch"
   ]
  },
  {
   "cell_type": "code",
   "execution_count": 5,
   "metadata": {},
   "outputs": [
    {
     "data": {
      "text/plain": [
       "tensor([[0.],\n",
       "        [0.],\n",
       "        [0.],\n",
       "        [1.],\n",
       "        [0.],\n",
       "        [1.],\n",
       "        [0.],\n",
       "        [1.],\n",
       "        [1.],\n",
       "        [0.]])"
      ]
     },
     "execution_count": 5,
     "metadata": {},
     "output_type": "execute_result"
    }
   ],
   "source": [
    "Y_batch\n",
    "# 첫번째 꽃: 장미\n",
    "# 두번째 꽃: 장미"
   ]
  },
  {
   "cell_type": "markdown",
   "metadata": {},
   "source": [
    "# Notation 정리\n",
    "\n",
    "강의자료와 비교하면 \n",
    "\n",
    "\\begin{align*}\n",
    "\\text{X_batch} = \n",
    "\\begin{bmatrix}\n",
    "(x^{(1)})^\\top\\\\\n",
    "(x^{(2)})^\\top\\\\\n",
    "\\vdots \\\\\n",
    "(x^{(10)})^\\top\n",
    "\\end{bmatrix}, \\quad\n",
    "\\text{Y_batch} = \n",
    "\\begin{bmatrix}\n",
    "y^{(1)}\\\\\n",
    "y^{(2)}\\\\\n",
    "\\vdots \\\\\n",
    "y^{(10)}\n",
    "\\end{bmatrix}\n",
    "\\end{align*}"
   ]
  },
  {
   "cell_type": "markdown",
   "metadata": {},
   "source": [
    "# Example Problem: Single Neuron\n",
    "\n",
    "- 한개의 neuron이 있다고 가정하고 $\\mathbb{R}^4$ 를 입력받아서 $\\mathbb{R}$로 출력한다고 가정합니다.\n",
    "- Activation 함수는 ReLU 함수, 즉, \n",
    "\\begin{align*}\n",
    "\\text{ReLU}(x) = \\max(0, x)\n",
    "\\end{align*}\n",
    "를 사용한다고 가정합니다.\n",
    "\n",
    "Neuron을 통해서 batch sample 전체를\n",
    "\\begin{align*}\n",
    "Z = \\begin{bmatrix}\n",
    "(w^T x^{(1)} + b)^T \\\\\n",
    "(w^T x^{(2)} + b)^T \\\\\n",
    "\\vdots \\\\\n",
    "(w^T x^{(m)} + b)^T\n",
    "\\end{bmatrix} \n",
    "\\end{align*}\n",
    "연산을 수행해서 $Z$를 구하세요.\n",
    "\n",
    "- $w$는 random Gaussian으로 생성하세요. 위에서 예기한 입력과 출력이 맞도록 weight를 생성하세요.\n",
    "- Bias $b$는 1로 설정\n",
    "\n",
    "\n"
   ]
  },
  {
   "cell_type": "code",
   "execution_count": 6,
   "metadata": {},
   "outputs": [
    {
     "name": "stdout",
     "output_type": "stream",
     "text": [
      "tensor([[ 2.2910],\n",
      "        [ 3.0975],\n",
      "        [ 1.6780],\n",
      "        [ 1.0120],\n",
      "        [ 1.4991],\n",
      "        [-0.5044],\n",
      "        [ 1.4891],\n",
      "        [ 1.3363],\n",
      "        [ 0.2980],\n",
      "        [-1.8288]])\n"
     ]
    }
   ],
   "source": [
    "# 답 작성\n",
    "\n",
    "W = torch.randn(num_feature, 1)\n",
    "b = 1\n",
    "Z = torch.matmul(X_batch, W)+b\n",
    "print(Z)"
   ]
  },
  {
   "cell_type": "markdown",
   "metadata": {},
   "source": [
    "원하는 연산을 하는지 확인하도록 합니다"
   ]
  },
  {
   "cell_type": "code",
   "execution_count": 7,
   "metadata": {},
   "outputs": [
    {
     "name": "stdout",
     "output_type": "stream",
     "text": [
      "tensor([[ 2.2910],\n",
      "        [ 3.0975],\n",
      "        [ 1.6780],\n",
      "        [ 1.0120],\n",
      "        [ 1.4991],\n",
      "        [-0.5044],\n",
      "        [ 1.4891],\n",
      "        [ 1.3363],\n",
      "        [ 0.2980],\n",
      "        [-1.8288]])\n"
     ]
    },
    {
     "name": "stderr",
     "output_type": "stream",
     "text": [
      "/var/folders/0q/f448gzfd2rd9vk0q5h6wlvn80000gn/T/ipykernel_1669/1446079948.py:3: UserWarning: The use of `x.T` on tensors of dimension other than 2 to reverse their shape is deprecated and it will throw an error in a future release. Consider `x.mT` to transpose batches of matrices or `x.permute(*torch.arange(x.ndim - 1, -1, -1))` to reverse the dimensions of a tensor. (Triggered internally at /Users/runner/work/pytorch/pytorch/pytorch/aten/src/ATen/native/TensorShape.cpp:3281.)\n",
      "  z_loop[i,:] = torch.matmul(W.T, X_batch[i,:].T)+b\n"
     ]
    }
   ],
   "source": [
    "z_loop = torch.empty(batch_size, 1)\n",
    "for i in torch.arange(batch_size):\n",
    "    z_loop[i,:] = torch.matmul(W.T, X_batch[i,:].T)+b\n",
    "print(z_loop)"
   ]
  },
  {
   "cell_type": "markdown",
   "metadata": {},
   "source": [
    "## Problem 1\n",
    "ReLU 함수를 작성하고 위에서 찾은 $Z$의 각 원소에 ReLU 함수를 적용하여 `a`라는 변수에 저장하세요.\n",
    "\n",
    "- torch.clamp() 함수를 공부하고 적용하세요\n",
    "\n",
    "\n"
   ]
  },
  {
   "cell_type": "code",
   "execution_count": 8,
   "metadata": {},
   "outputs": [
    {
     "name": "stdout",
     "output_type": "stream",
     "text": [
      "tensor([[2.2910],\n",
      "        [3.0975],\n",
      "        [1.6780],\n",
      "        [1.0120],\n",
      "        [1.4991],\n",
      "        [0.0000],\n",
      "        [1.4891],\n",
      "        [1.3363],\n",
      "        [0.2980],\n",
      "        [0.0000]])\n"
     ]
    }
   ],
   "source": [
    "# 답 작성:\n",
    "\n",
    "def ReLU(x):\n",
    "    return torch.clamp(x,min=0)\n",
    "\n",
    "A = ReLU(Z)\n",
    "\n",
    "print(A)"
   ]
  },
  {
   "cell_type": "markdown",
   "metadata": {},
   "source": [
    "# Single Layer Network\n",
    "\n",
    "- 한개의 Layer에 $k=5$개의 Neuron 이 있는 network를 구성하고 출력을 구하세요\n",
    "- Activation function은 모든 neuron에 ReLU를 적용합니다\n",
    "- 모든 weight는 Gaussian 분포로 랜덤 생성하세요 `torch.randn()`\n",
    "- $i$ 번째 neuron의 weight들을 $w_i$라고 할때,\n",
    "\\begin{align*}\n",
    "\\text{W} = \\begin{bmatrix}\n",
    "w_1, w_2, w_3, w_4, w_5\n",
    "\\end{bmatrix}\n",
    "\\end{align*}\n",
    "라고 하고, weight matrix `W`를 만드세요.\n",
    "  - `W = torch.randn(4, 5)` 으로 생성\n",
    "- Bias 역시 `b`라는 `tensor`에 저장하고, 각 neuron 별로 `1`로 설정합니다\n",
    "  - `b = torch.ones(1,5)`\n",
    "- 아래 problem 2-2에서 수업에서 배운 $Z$ 행렬과 $A$ 행렬을 구하세요"
   ]
  },
  {
   "cell_type": "markdown",
   "metadata": {},
   "source": [
    "# Problem 2-1\n",
    "`Z` 행렬과 `A` 행렬의 차원은 어떻게 나와야하나요?"
   ]
  },
  {
   "cell_type": "markdown",
   "metadata": {},
   "source": [
    "답 작성)\n",
    "\n",
    "Z 는 (10,5), \n",
    "A 는 (10,5)"
   ]
  },
  {
   "cell_type": "markdown",
   "metadata": {},
   "source": [
    "# Problem 2-2 \n",
    "위에서 요구한 코딩을 완성하세요"
   ]
  },
  {
   "cell_type": "code",
   "execution_count": 9,
   "metadata": {},
   "outputs": [
    {
     "name": "stdout",
     "output_type": "stream",
     "text": [
      "tensor([[1.5009, 0.0000, 0.0000, 0.0000, 0.0000],\n",
      "        [0.0000, 5.6229, 3.3937, 0.3508, 0.0000],\n",
      "        [1.9497, 0.0000, 0.4126, 1.3829, 2.4589],\n",
      "        [1.5662, 3.2170, 0.5114, 0.0000, 0.0751],\n",
      "        [3.6741, 0.0000, 0.0000, 0.0000, 2.0759],\n",
      "        [2.1981, 0.0000, 0.7003, 3.8946, 5.3346],\n",
      "        [2.2619, 0.0000, 0.0000, 0.4367, 1.6558],\n",
      "        [2.8142, 0.0000, 0.0000, 0.3528, 2.0421],\n",
      "        [0.0000, 1.7287, 3.6229, 3.6950, 1.9198],\n",
      "        [0.7818, 0.0000, 1.2625, 3.4941, 3.4477]])\n",
      "torch.Size([10, 5])\n"
     ]
    }
   ],
   "source": [
    "# 답 작성\n",
    "k = 5\n",
    "\n",
    "W = torch.randn(num_feature,k) \n",
    "b = torch.ones(1,5) \n",
    "Z = torch.matmul(X_batch,W) + b \n",
    "A = ReLU(Z)\n",
    "\n",
    "print(A)\n",
    "print(A.shape)"
   ]
  },
  {
   "cell_type": "markdown",
   "metadata": {},
   "source": [
    "# Problem 3: \n",
    "\n",
    "- $x^{(3)}$ 를 입력으로하는 2번째 Neuron의 결과값을 출력하세요\n",
    "- 위에서 구한 `A[i, j]`  인덱싱을 통해서 출력하세요\n",
    "- `Python`의 인덱싱은 `0`부터 시작한다는 것을 주의하세요"
   ]
  },
  {
   "cell_type": "code",
   "execution_count": 13,
   "metadata": {},
   "outputs": [
    {
     "name": "stdout",
     "output_type": "stream",
     "text": [
      "answer =  tensor(1.2113)\n"
     ]
    }
   ],
   "source": [
    "# 답 작성\n",
    "\n",
    "print('answer = ', A[2, 1])"
   ]
  },
  {
   "cell_type": "markdown",
   "metadata": {},
   "source": [
    "# Problem 4: Multi-Layer network\n",
    "\n",
    "- 3개의 layer가 있는 network를 구성합니다.\n",
    "- 2번째 layer의 입력 크기는 $k^{[1]}=16$, 출력 크기는 $k^{[2]}=6$\n",
    "- 마지막 layer의 출력은 $k^{[3]}=1$개의 neuron으로 구성\n",
    "- 각 layer의 연산값을 구하세요. \n",
    "  - 각 layer의 선형 변환 결과값은 `Z1`, `Z2`, `Z3`로 저장하세요\n",
    "  - 각 layer의 결과값은 `A1`, `A2`, `A3`로 저장하세요\n",
    "- 모든 weight는 Gaussian 랜덤 변수로 생성, bias는 1로 구성된 벡터로 생성함\n",
    "- 각 layer의 weight는 `W1`, `W2`, `W3`로하고, bias는 `b1`, `b2`, `b3`로 생성함\n",
    "- Activation 함수는 `ReLU`를 적용하세요\n",
    "- Loop 없이 행렬연산으로 구생하세요"
   ]
  },
  {
   "cell_type": "code",
   "execution_count": 11,
   "metadata": {},
   "outputs": [],
   "source": [
    "# 답 작성\n",
    "\n",
    "W1= torch.randn(num_feature,16)\n",
    "W2= torch.randn(16,6)\n",
    "W3= torch.randn(6,1)\n",
    "b1= torch.ones(1,16)\n",
    "b2= torch.ones(1,6)\n",
    "b3= torch.ones(1,1)\n",
    "\n",
    "Z1 = torch.matmul(X_batch,W1) + b1\n",
    "A1 = ReLU(Z1)\n",
    "Z2 = torch.matmul(A1, W2) + b2\n",
    "A2 = ReLU(Z2)\n",
    "Z3 = torch.matmul(A2, W3) + b3\n",
    "A3 = ReLU(Z3)\n",
    "\n",
    "\n",
    "\n"
   ]
  },
  {
   "cell_type": "code",
   "execution_count": 12,
   "metadata": {},
   "outputs": [
    {
     "name": "stdout",
     "output_type": "stream",
     "text": [
      "torch.Size([10, 16])\n",
      "tensor([[ 0.8317, -0.6308,  0.5051,  0.8553,  2.5444,  1.3594,  1.1264,  2.9787,\n",
      "          2.8035, -1.9413,  1.4831, -0.1551,  0.2352,  3.0498, -1.7288,  3.3823],\n",
      "        [ 1.6584,  2.3320,  0.6552, -1.9099, -4.9303, -1.0179, -1.5007,  1.1670,\n",
      "          3.4239, -0.3064,  0.7731,  1.0384,  0.5742,  5.0414, -0.4867,  2.3868],\n",
      "        [-0.0393,  0.1352,  1.3750,  2.6334,  1.0723,  2.3457,  1.0198,  0.8499,\n",
      "          1.2183,  0.9049,  1.5732, -1.0158, -0.6848,  0.9812,  0.3596,  0.7113],\n",
      "        [ 0.9995,  1.8367,  0.1942,  0.7268,  0.2951, -1.5948,  0.6320, -0.7372,\n",
      "         -1.0405,  2.3720, -1.1693,  0.9175,  4.3993,  0.7099,  1.5059,  0.3437],\n",
      "        [-0.0869, -1.4654,  0.5757,  3.2178,  5.5183,  2.1322,  2.3527,  2.0772,\n",
      "          0.7470, -0.6851,  1.0313, -1.2825,  0.9458,  0.6877, -1.0220,  2.1722],\n",
      "        [-0.0358,  0.1650,  2.5580,  4.1172,  3.4414,  5.0769,  2.4867,  0.7870,\n",
      "          0.3578,  2.6434,  3.0948,  0.3180, -2.5209, -2.3563,  2.8855, -1.1864],\n",
      "        [ 0.2513,  0.1235,  0.8429,  2.2207,  2.0673,  1.2711,  1.2658,  0.8647,\n",
      "          0.6126,  0.7409,  0.7555, -0.5518,  1.0281,  0.9299,  0.2081,  1.1082],\n",
      "        [ 0.0135,  0.1100,  0.7656,  2.7390,  2.4599,  1.0596,  1.4338,  0.3160,\n",
      "         -0.1751,  1.3165,  0.3260, -0.8704,  1.6493,  0.3521,  0.4895,  0.6571],\n",
      "        [ 1.5143,  2.1778,  2.2668,  0.3111, -1.6226,  2.8408,  0.4961,  1.1421,\n",
      "          2.3466,  1.8988,  2.9006,  2.5120, -2.1196,  0.6171,  2.7103, -0.1040],\n",
      "        [ 1.7146,  0.6394,  2.2256,  1.7636,  5.2238,  4.4377,  3.1578,  2.4654,\n",
      "          1.0351,  1.5774,  3.3475,  3.7770, -1.3149, -2.4087,  3.3735,  0.0504]])\n"
     ]
    }
   ],
   "source": [
    "print(Z1.shape)\n",
    "print(Z1)\n"
   ]
  },
  {
   "cell_type": "code",
   "execution_count": 13,
   "metadata": {},
   "outputs": [
    {
     "name": "stdout",
     "output_type": "stream",
     "text": [
      "torch.Size([10, 6])\n",
      "tensor([[ 1.2972e+01,  1.5879e+01,  1.3625e+01,  6.1362e+00, -3.9340e-01,\n",
      "         -1.3898e+00],\n",
      "        [ 1.4109e+01,  2.2289e+01,  1.6362e+01,  4.8086e+00, -4.1622e+00,\n",
      "         -4.8496e+00],\n",
      "        [ 7.2885e+00,  8.5322e+00,  1.1982e+01,  9.8866e+00,  1.9092e+00,\n",
      "          6.4297e+00],\n",
      "        [ 1.1031e+01,  3.6901e+00,  1.4728e+01,  1.4075e+01, -3.7502e+00,\n",
      "         -6.3505e+00],\n",
      "        [ 1.3316e+01,  7.3238e+00,  1.2910e+01,  5.3541e+00, -2.0667e+00,\n",
      "          2.6020e+00],\n",
      "        [ 7.7682e+00,  7.2902e+00,  2.2498e+01,  1.4998e+01,  4.8421e-01,\n",
      "          1.1210e+01],\n",
      "        [ 1.0140e+01,  7.1445e+00,  1.0190e+01,  8.4843e+00,  1.3260e-01,\n",
      "          3.1225e+00],\n",
      "        [ 1.0944e+01,  4.4197e+00,  1.0073e+01,  1.0921e+01, -3.3741e-03,\n",
      "          3.0654e+00],\n",
      "        [ 1.2239e+00,  7.9556e+00,  2.5552e+01,  5.8155e+00,  7.4608e-01,\n",
      "         -3.4636e+00],\n",
      "        [ 6.9859e+00,  1.4315e+00,  2.7884e+01,  4.5464e+00,  7.8779e-01,\n",
      "          6.4422e-01]])\n"
     ]
    }
   ],
   "source": [
    "print(Z2.shape)\n",
    "print(Z2)\n"
   ]
  },
  {
   "cell_type": "code",
   "execution_count": 14,
   "metadata": {},
   "outputs": [
    {
     "name": "stdout",
     "output_type": "stream",
     "text": [
      "torch.Size([10, 1])\n",
      "tensor([[15.7598],\n",
      "        [26.9483],\n",
      "        [ 8.5776],\n",
      "        [-4.0453],\n",
      "        [12.3496],\n",
      "        [20.5565],\n",
      "        [ 2.6170],\n",
      "        [-4.9203],\n",
      "        [45.3721],\n",
      "        [45.5209]])\n"
     ]
    }
   ],
   "source": [
    "print(Z3.shape)\n",
    "print(Z3)"
   ]
  },
  {
   "cell_type": "markdown",
   "metadata": {},
   "source": [
    "# Problem 5\n",
    "- 위에서 구한 `A3[i,j]`의 인덱싱을 통해서 $h_\\theta(x^{(3)})$ 을 출력하세요\n",
    "- 역시 `python`인덱싱은 `0` 부터 시작한다는 것을 주의하세요"
   ]
  },
  {
   "cell_type": "code",
   "execution_count": 15,
   "metadata": {},
   "outputs": [
    {
     "name": "stdout",
     "output_type": "stream",
     "text": [
      "h_theta(x3) =  tensor([8.5776])\n"
     ]
    }
   ],
   "source": [
    "# 답 작성\n",
    "\n",
    "print('h_theta(x3) = ', A3[2,:])"
   ]
  },
  {
   "cell_type": "markdown",
   "metadata": {},
   "source": [
    "# Problem 6\n",
    "위에서 공부한 것을 함수로 만들어 보도록 하겠습니다.\n",
    "아래 한 layer의 선형 변환을 연산하는 class를 만들어 보도록 하죠.\n",
    "\n",
    "- Class는 `my_linear_layer()`\n",
    "  - `__init__(self, n_input, n_output)` 함수:\n",
    "    - `self.W` 변수 초기화: Weight 행렬 `self.W`를 램덤 Gaussian 생성 (차원에 맞는...)\n",
    "    - `self.b` 변수 초기화: bias 벡터 `self.b`를 모두 `1`인 벡터 생성 (차원에 맞는...)\n",
    "  - `forward(A)` 함수:\n",
    "    - 입력: `A`는 sample batch $X$ 또는 전 layer에서 들어오는 입력 batch $A^{[\\ell-1]}$을 입력하는 자리\n",
    "    - return 값\n",
    "      - `Z` 변수는 $A^{[\\ell-1]}$의 선형 변환 값, 즉 $Z^{[\\ell]}$\n",
    "\n"
   ]
  },
  {
   "cell_type": "code",
   "execution_count": 16,
   "metadata": {},
   "outputs": [],
   "source": [
    "# 답 작성\n",
    "class my_linear_layer():\n",
    "    def __init__(self, n_input, n_output):\n",
    "        self.W = torch.randn(n_input, n_output)\n",
    "        self.b = torch.ones(1,n_output)\n",
    "    \n",
    "    def forward(self,A):\n",
    "        Z = torch.matmul(A, self.W) + self.b\n",
    "        return Z\n",
    "    \n",
    "    \n",
    "    "
   ]
  },
  {
   "cell_type": "markdown",
   "metadata": {},
   "source": [
    "답을 확인하기 위해서 `n_input=num_feature`과 `n_output = 5` 인 `my_linear_layer` instance 생성"
   ]
  },
  {
   "cell_type": "code",
   "execution_count": 18,
   "metadata": {},
   "outputs": [
    {
     "data": {
      "text/plain": [
       "tensor([[ 4.0638,  2.2198, -1.7476, -0.3184,  0.2471],\n",
       "        [ 0.2967, -2.2693, -1.0325, -3.7866,  0.9864],\n",
       "        [ 2.8471,  1.4401, -0.5475,  1.4418,  1.7400],\n",
       "        [ 0.7613,  0.5061,  4.5036,  2.8031,  1.9201],\n",
       "        [ 5.3088,  4.0278, -0.0173,  3.2829,  1.0363],\n",
       "        [ 0.6880,  2.4766, -0.1730,  3.1860,  1.3804],\n",
       "        [ 2.9911,  1.8939,  0.7868,  2.1593,  1.5343],\n",
       "        [ 3.1934,  2.1373,  1.7049,  3.2263,  1.9170],\n",
       "        [-2.2147, -0.7392, -0.8183, -1.3959,  0.5713],\n",
       "        [-1.6621,  2.8714,  0.5136,  1.9950, -0.6663]])"
      ]
     },
     "execution_count": 18,
     "metadata": {},
     "output_type": "execute_result"
    }
   ],
   "source": [
    "torch.manual_seed(0)\n",
    "\n",
    "mll = my_linear_layer(num_feature, 5)\n",
    "mll.forward(X_batch)"
   ]
  },
  {
   "cell_type": "code",
   "execution_count": 19,
   "metadata": {},
   "outputs": [
    {
     "name": "stdout",
     "output_type": "stream",
     "text": [
      "tensor([[-1.1258, -1.1524, -0.2506, -0.4339,  0.5988],\n",
      "        [-1.5551, -0.3414,  1.8530,  0.4681, -0.1577],\n",
      "        [ 1.4437,  0.2660,  1.3894,  1.5863,  0.9463],\n",
      "        [-0.8437,  0.9318,  1.2590,  2.0050,  0.0537]])\n",
      "tensor([[1., 1., 1., 1., 1.]])\n"
     ]
    }
   ],
   "source": [
    "print(mll.W)\n",
    "print(mll.b)"
   ]
  },
  {
   "cell_type": "markdown",
   "metadata": {},
   "source": [
    "# Building a Linear Layer with `torch.nn`\n",
    "위에서 수행한 작업을 `pytorch`에서는 `torch.nn.Linear`라는 명령어로 쉽게 구현할 수 있습니다.\n",
    "아래 예제를 보도록 하죠"
   ]
  },
  {
   "cell_type": "code",
   "execution_count": 2,
   "metadata": {},
   "outputs": [
    {
     "ename": "NameError",
     "evalue": "name 'num_feature' is not defined",
     "output_type": "error",
     "traceback": [
      "\u001b[0;31m---------------------------------------------------------------------------\u001b[0m",
      "\u001b[0;31mNameError\u001b[0m                                 Traceback (most recent call last)",
      "Input \u001b[0;32mIn [2]\u001b[0m, in \u001b[0;36m<cell line: 3>\u001b[0;34m()\u001b[0m\n\u001b[1;32m      1\u001b[0m \u001b[38;5;28;01mimport\u001b[39;00m \u001b[38;5;21;01mtorch\u001b[39;00m\u001b[38;5;21;01m.\u001b[39;00m\u001b[38;5;21;01mnn\u001b[39;00m \u001b[38;5;28;01mas\u001b[39;00m \u001b[38;5;21;01mnn\u001b[39;00m\n\u001b[1;32m      2\u001b[0m \u001b[38;5;66;03m#W = torch.randn(num_feature, 5)\u001b[39;00m\n\u001b[0;32m----> 3\u001b[0m L1 \u001b[38;5;241m=\u001b[39m nn\u001b[38;5;241m.\u001b[39mLinear(\u001b[43mnum_feature\u001b[49m, \u001b[38;5;241m5\u001b[39m)\n\u001b[1;32m      4\u001b[0m Zll \u001b[38;5;241m=\u001b[39m L1(X_batch)\n\u001b[1;32m      5\u001b[0m Zll\n",
      "\u001b[0;31mNameError\u001b[0m: name 'num_feature' is not defined"
     ]
    }
   ],
   "source": [
    "import torch.nn as nn\n",
    "#W = torch.randn(num_feature, 5)\n",
    "L1 = nn.Linear(num_feature, 5)\n",
    "Zll = L1(X_batch)\n",
    "Zll"
   ]
  },
  {
   "cell_type": "code",
   "execution_count": 31,
   "metadata": {},
   "outputs": [
    {
     "data": {
      "text/plain": [
       "tensor([[ 0.5305,  1.1570,  0.2352,  2.0200,  3.5516],\n",
       "        [ 3.1858,  0.1941,  0.6759,  0.3632, -2.1292],\n",
       "        [ 1.8391,  1.2113,  2.0038, -0.8603,  2.1906],\n",
       "        [ 1.0724,  0.6143,  1.6056,  1.9838,  0.5979],\n",
       "        [-0.1756,  1.5531,  1.2092,  1.7496,  5.7082],\n",
       "        [ 0.8844,  1.7877,  2.0312, -1.8249,  1.9058],\n",
       "        [ 1.0777,  1.1470,  1.6190,  0.6380,  2.7351],\n",
       "        [ 1.0298,  1.1658,  2.0023,  0.5876,  3.0591],\n",
       "        [ 1.9733,  1.0070,  0.8147, -1.1146, -2.2139],\n",
       "        [-1.2479,  1.7962, -0.2809,  1.4853,  1.1872]],\n",
       "       grad_fn=<AddmmBackward0>)"
      ]
     },
     "execution_count": 31,
     "metadata": {},
     "output_type": "execute_result"
    }
   ],
   "source": [
    "L1.weight = nn.Parameter(W.T)\n",
    "L1.bias.data.fill_(1.0)\n",
    "Zll2 = L1(X_batch)\n",
    "Zll2"
   ]
  },
  {
   "cell_type": "code",
   "execution_count": null,
   "metadata": {},
   "outputs": [],
   "source": [
    "Z"
   ]
  }
 ],
 "metadata": {
  "kernelspec": {
   "display_name": "Python 3 (ipykernel)",
   "language": "python",
   "name": "python3"
  },
  "language_info": {
   "codemirror_mode": {
    "name": "ipython",
    "version": 3
   },
   "file_extension": ".py",
   "mimetype": "text/x-python",
   "name": "python",
   "nbconvert_exporter": "python",
   "pygments_lexer": "ipython3",
   "version": "3.10.5"
  }
 },
 "nbformat": 4,
 "nbformat_minor": 4
}
