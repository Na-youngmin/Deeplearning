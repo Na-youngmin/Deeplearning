{
 "cells": [
  {
   "cell_type": "code",
   "execution_count": 3,
   "id": "ce2844cb",
   "metadata": {},
   "outputs": [
    {
     "name": "stdout",
     "output_type": "stream",
     "text": [
      "모든 이미지 파일 처리 완료 및 classes.yaml 생성 완료\n"
     ]
    }
   ],
   "source": [
    "import os\n",
    "import cv2\n",
    "import numpy as np\n",
    "import yaml\n",
    "\n",
    "# 폴더 경로 설정\n",
    "folder_path = '/Users/nayoungmin/Desktop/무제 폴더'\n",
    "save_folder_path = '/Users/nayoungmin/Desktop/무제 폴더 2'  # 수정된 저장 경로\n",
    "\n",
    "# 저장 폴더가 없으면 생성\n",
    "if not os.path.exists(save_folder_path):\n",
    "    os.makedirs(save_folder_path)\n",
    "\n",
    "# 클래스와 라벨 매핑을 위한 딕셔너리 생성 및 yaml 파일 내용\n",
    "yaml_data = {\n",
    "    'names': ['LA', 'AO']\n",
    "}\n",
    "\n",
    "# yaml 파일 저장\n",
    "yaml_file_path = os.path.join(save_folder_path, 'classes.yaml')\n",
    "with open(yaml_file_path, 'w') as yaml_file:\n",
    "    yaml.dump(yaml_data, yaml_file, default_flow_style=False)\n",
    "\n",
    "# 폴더 내 모든 파일 탐색 및 처리\n",
    "for file_name in os.listdir(folder_path):\n",
    "    if file_name.endswith(('.png', '.jpg', '.jpeg')):  # 파일 확장자 확인\n",
    "        img_path = os.path.join(folder_path, file_name)  # 이미지 파일 경로 생성\n",
    "        img_name = os.path.splitext(file_name)[0]  # 이미지 이름 추출\n",
    "        \n",
    "        np_img = cv2.imread(img_path)  # 이미지 읽기\n",
    "        img_height, img_width = np_img.shape[:2]  # 이미지 차원\n",
    "\n",
    "        # 마스크 생성 및 영역 추출\n",
    "        green_mask = cv2.inRange(np_img, np.array([0, 128, 0]), np.array([100, 255, 100]))\n",
    "        red_mask = cv2.inRange(np_img, np.array([0, 0, 128]), np.array([100, 100, 255]))\n",
    "        \n",
    "        # 윤곽선 검출\n",
    "        contours_green, _ = cv2.findContours(green_mask, cv2.RETR_EXTERNAL, cv2.CHAIN_APPROX_SIMPLE)\n",
    "        contours_red, _ = cv2.findContours(red_mask, cv2.RETR_EXTERNAL, cv2.CHAIN_APPROX_SIMPLE)\n",
    "\n",
    "        # 결과 저장을 위한 데이터 준비\n",
    "        normalized_data = []\n",
    "\n",
    "        for color_index, (color, contours) in enumerate([('green', contours_green), ('red', contours_red)]):\n",
    "            class_label = 0 if color == 'green' else 1  # 클래스 라벨 설정\n",
    "            for contour in contours:\n",
    "                x, y, w, h = cv2.boundingRect(contour)\n",
    "                bbox_normalized = [x / img_width, y / img_height, w / img_width, h / img_height]\n",
    "                contour_normalized = np.squeeze(contour).astype(np.float32)\n",
    "                contour_normalized[:, 0] = contour_normalized[:, 0] / img_width\n",
    "                contour_normalized[:, 1] = contour_normalized[:, 1] / img_height\n",
    "                normalized_data.append({\n",
    "                    'class': class_label,\n",
    "                    'bbox': bbox_normalized,\n",
    "                    'contours': contour_normalized.flatten().tolist()\n",
    "                })\n",
    "\n",
    "        # 수정된 저장 경로에 결과 파일 저장\n",
    "        output_file_path = os.path.join(save_folder_path, f\"{img_name}.txt\")\n",
    "        with open(output_file_path, 'w') as f:\n",
    "            for data in normalized_data:\n",
    "                f.write(f\"{data['class']} {' '.join(map(str, data['bbox']))} \")\n",
    "                f.write(' '.join(map(str, data['contours'])) + \"\\n\")\n",
    "\n",
    "print(\"모든 이미지 파일 처리 완료 및 classes.yaml 생성 완료\")\n"
   ]
  },
  {
   "cell_type": "code",
   "execution_count": null,
   "id": "17122788",
   "metadata": {},
   "outputs": [],
   "source": []
  }
 ],
 "metadata": {
  "kernelspec": {
   "display_name": "tensor",
   "language": "python",
   "name": "tensor"
  },
  "language_info": {
   "codemirror_mode": {
    "name": "ipython",
    "version": 3
   },
   "file_extension": ".py",
   "mimetype": "text/x-python",
   "name": "python",
   "nbconvert_exporter": "python",
   "pygments_lexer": "ipython3",
   "version": "3.9.15"
  }
 },
 "nbformat": 4,
 "nbformat_minor": 5
}
