{
 "cells": [
  {
   "cell_type": "code",
   "execution_count": 4,
   "id": "7008f101",
   "metadata": {},
   "outputs": [
    {
     "name": "stdout",
     "output_type": "stream",
     "text": [
      "Downloading COCO128 dataset...\n",
      "COCO128 dataset downloaded and extracted.\n",
      "Using device: cpu\n"
     ]
    },
    {
     "name": "stderr",
     "output_type": "stream",
     "text": [
      "sh: wget: command not found\n",
      "unzip:  cannot find or open coco128.zip, coco128.zip.zip or coco128.zip.ZIP.\n"
     ]
    },
    {
     "ename": "TypeError",
     "evalue": "__init__() got an unexpected keyword argument 'device'",
     "output_type": "error",
     "traceback": [
      "\u001b[0;31m---------------------------------------------------------------------------\u001b[0m",
      "\u001b[0;31mTypeError\u001b[0m                                 Traceback (most recent call last)",
      "Cell \u001b[0;32mIn[4], line 22\u001b[0m\n\u001b[1;32m     18\u001b[0m \u001b[38;5;28mprint\u001b[39m(\u001b[38;5;124mf\u001b[39m\u001b[38;5;124m'\u001b[39m\u001b[38;5;124mUsing device: \u001b[39m\u001b[38;5;132;01m{\u001b[39;00mdevice\u001b[38;5;132;01m}\u001b[39;00m\u001b[38;5;124m'\u001b[39m)\n\u001b[1;32m     20\u001b[0m \u001b[38;5;66;03m# 모델 초기화 및 설정\u001b[39;00m\n\u001b[1;32m     21\u001b[0m \u001b[38;5;66;03m# 'yolov8n'은 YOLOv8 nano 버전을 의미합니다. 다른 버전을 사용하고 싶다면 변경 가능합니다.\u001b[39;00m\n\u001b[0;32m---> 22\u001b[0m model \u001b[38;5;241m=\u001b[39m \u001b[43mYOLO\u001b[49m\u001b[43m(\u001b[49m\u001b[38;5;124;43m'\u001b[39;49m\u001b[38;5;124;43myolov8n\u001b[39;49m\u001b[38;5;124;43m'\u001b[39;49m\u001b[43m,\u001b[49m\u001b[43m \u001b[49m\u001b[43mdevice\u001b[49m\u001b[38;5;241;43m=\u001b[39;49m\u001b[43mdevice\u001b[49m\u001b[43m)\u001b[49m  \u001b[38;5;66;03m# 모델을 특정 디바이스에 할당\u001b[39;00m\n\u001b[1;32m     24\u001b[0m \u001b[38;5;66;03m# 학습 설정 및 시작\u001b[39;00m\n\u001b[1;32m     25\u001b[0m \u001b[38;5;66;03m# data: 데이터셋 설정 파일 경로. COCO128 데이터셋의 경우 대부분 data.yaml 파일이 포함되어 있습니다.\u001b[39;00m\n\u001b[1;32m     26\u001b[0m \u001b[38;5;66;03m# epochs: 학습 에폭 수\u001b[39;00m\n\u001b[1;32m     27\u001b[0m \u001b[38;5;66;03m# batch_size: 배치 크기\u001b[39;00m\n\u001b[1;32m     28\u001b[0m \u001b[38;5;66;03m# device: 'cuda'를 사용하여 GPU에서 학습\u001b[39;00m\n\u001b[1;32m     29\u001b[0m train_results \u001b[38;5;241m=\u001b[39m model\u001b[38;5;241m.\u001b[39mtrain(data\u001b[38;5;241m=\u001b[39m\u001b[38;5;124mf\u001b[39m\u001b[38;5;124m'\u001b[39m\u001b[38;5;132;01m{\u001b[39;00mdataset_directory\u001b[38;5;132;01m}\u001b[39;00m\u001b[38;5;124m/data.yaml\u001b[39m\u001b[38;5;124m'\u001b[39m,\n\u001b[1;32m     30\u001b[0m                             epochs\u001b[38;5;241m=\u001b[39m\u001b[38;5;241m50\u001b[39m,\n\u001b[1;32m     31\u001b[0m                             batch_size\u001b[38;5;241m=\u001b[39m\u001b[38;5;241m16\u001b[39m,\n\u001b[1;32m     32\u001b[0m                             device\u001b[38;5;241m=\u001b[39mdevice)\n",
      "\u001b[0;31mTypeError\u001b[0m: __init__() got an unexpected keyword argument 'device'"
     ]
    }
   ],
   "source": [
    "import cv2\n",
    "import os\n",
    "import glob\n",
    "\n",
    "# 원본 데이터셋 경로\n",
    "original_dataset_path = '/content/drive/MyDrive/YOLO/coco128'\n",
    "\n",
    "# 커스텀 데이터셋 저장 경로\n",
    "custom_dataset_path = '/content/drive/MyDrive/YOLO/coco128_custom'\n",
    "custom_images_path = os.path.join(custom_dataset_path, 'images/train2017')\n",
    "custom_labels_path = os.path.join(custom_dataset_path, 'labels/train2017')\n",
    "os.makedirs(custom_images_path, exist_ok=True)\n",
    "os.makedirs(custom_labels_path, exist_ok=True)\n",
    "\n",
    "# 이미지 해상도 조정 비율\n",
    "resize_ratio = 0.5  # 예: 원래 해상도의 50%로 조정\n",
    "\n",
    "# 이미지 파일 처리 및 저장\n",
    "for image_file in glob.glob(f'{original_dataset_path}/images/train2017/*.jpg'):\n",
    "    # 이미지 이름 및 확장자 분리\n",
    "    image_name = os.path.basename(image_file)\n",
    "    base_name, _ = os.path.splitext(image_name)\n",
    "\n",
    "    # 이미지 리사이즈\n",
    "    img = cv2.imread(image_file)\n",
    "    resized_img = cv2.resize(img, None, fx=resize_ratio, fy=resize_ratio, interpolation=cv2.INTER_AREA)\n",
    "    cv2.imwrite(os.path.join(custom_images_path, image_name), resized_img)\n",
    "\n",
    "    # 라벨 파일 경로 설정\n",
    "    label_file = os.path.join(original_dataset_path, 'labels/train2017', base_name + '.txt')\n",
    "    custom_label_file = os.path.join(custom_labels_path, base_name + '.txt')\n",
    "\n",
    "    # 바운딩 박스 좌표 수정\n",
    "    if os.path.exists(label_file):\n",
    "        with open(label_file, 'r') as f, open(custom_label_file, 'w') as new_f:\n",
    "            for line in f.readlines():\n",
    "                parts = line.strip().split()\n",
    "                class_id, x_center, y_center, width, height = map(float, parts)\n",
    "\n",
    "                # 좌표를 비율에 맞게 조정\n",
    "                x_center *= resize_ratio\n",
    "                y_center *= resize_ratio\n",
    "                width *= resize_ratio\n",
    "                height *= resize_ratio\n",
    "\n",
    "                # 수정된 라인을 새 라벨 파일에 쓰기\n",
    "                new_f.write(f\"{class_id} {x_center} {y_center} {width} {height}\\n\")\n",
    "\n",
    "print(\"Custom dataset images and labels have been resized and saved.\")\n"
   ]
  },
  {
   "cell_type": "code",
   "execution_count": null,
   "id": "5b96e788",
   "metadata": {},
   "outputs": [],
   "source": []
  }
 ],
 "metadata": {
  "kernelspec": {
   "display_name": "tensor",
   "language": "python",
   "name": "tensor"
  },
  "language_info": {
   "codemirror_mode": {
    "name": "ipython",
    "version": 3
   },
   "file_extension": ".py",
   "mimetype": "text/x-python",
   "name": "python",
   "nbconvert_exporter": "python",
   "pygments_lexer": "ipython3",
   "version": "3.9.15"
  }
 },
 "nbformat": 4,
 "nbformat_minor": 5
}
